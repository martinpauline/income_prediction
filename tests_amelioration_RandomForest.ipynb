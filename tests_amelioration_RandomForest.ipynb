{
 "cells": [
  {
   "cell_type": "code",
   "execution_count": 1,
   "metadata": {},
   "outputs": [],
   "source": [
    "# Import modules\n",
    "import warnings\n",
    "warnings.filterwarnings('ignore')\n",
    "import numpy as np\n",
    "import pandas as pd\n",
    "import seaborn as sns\n",
    "import matplotlib.pyplot as plt\n",
    "# Enrichissement des données\n",
    "from sklearn.impute import SimpleImputer\n",
    "# KNN\n",
    "from sklearn.neighbors import KNeighborsClassifier\n",
    "# Grid search et calcul de scores\n",
    "from sklearn.model_selection import GridSearchCV\n",
    "from sklearn.model_selection import cross_val_score\n",
    "# Random Forest\n",
    "from sklearn.ensemble import RandomForestClassifier\n",
    "\n",
    "%matplotlib inline"
   ]
  },
  {
   "cell_type": "markdown",
   "metadata": {},
   "source": [
    "### Preprocessing"
   ]
  },
  {
   "cell_type": "code",
   "execution_count": 2,
   "metadata": {},
   "outputs": [],
   "source": [
    "data = pd.read_csv(\"data/adult.csv\", na_values='?')"
   ]
  },
  {
   "cell_type": "code",
   "execution_count": 3,
   "metadata": {},
   "outputs": [],
   "source": [
    "def remove_columns(data):\n",
    "    \"\"\"Remove useless columns\"\"\"\n",
    "    data.drop('education', axis=1, inplace=True)\n",
    "    data.drop('relationship', axis=1, inplace=True)\n",
    "    return\n",
    "\n",
    "remove_columns(data)"
   ]
  },
  {
   "cell_type": "code",
   "execution_count": 4,
   "metadata": {},
   "outputs": [],
   "source": [
    "def complete_except_occupation(data):\n",
    "    \"\"\" Fill missing data in some columns with a SimpleImputer\"\"\"\n",
    "    imp = SimpleImputer(missing_values=np.nan, strategy='most_frequent')\n",
    "    data['workclass'] = imp.fit_transform(data[['workclass']])\n",
    "    data['native.country'] = imp.fit_transform(data[['native.country']])\n",
    "    return\n",
    "\n",
    "complete_except_occupation(data)"
   ]
  },
  {
   "cell_type": "code",
   "execution_count": 5,
   "metadata": {},
   "outputs": [
    {
     "data": {
      "text/html": [
       "<div>\n",
       "<style scoped>\n",
       "    .dataframe tbody tr th:only-of-type {\n",
       "        vertical-align: middle;\n",
       "    }\n",
       "\n",
       "    .dataframe tbody tr th {\n",
       "        vertical-align: top;\n",
       "    }\n",
       "\n",
       "    .dataframe thead th {\n",
       "        text-align: right;\n",
       "    }\n",
       "</style>\n",
       "<table border=\"1\" class=\"dataframe\">\n",
       "  <thead>\n",
       "    <tr style=\"text-align: right;\">\n",
       "      <th></th>\n",
       "      <th>age</th>\n",
       "      <th>workclass</th>\n",
       "      <th>fnlwgt</th>\n",
       "      <th>education.num</th>\n",
       "      <th>marital.status</th>\n",
       "      <th>occupation</th>\n",
       "      <th>race</th>\n",
       "      <th>sex</th>\n",
       "      <th>capital.gain</th>\n",
       "      <th>capital.loss</th>\n",
       "      <th>hours.per.week</th>\n",
       "      <th>native.country</th>\n",
       "      <th>income</th>\n",
       "    </tr>\n",
       "  </thead>\n",
       "  <tbody>\n",
       "    <tr>\n",
       "      <th>0</th>\n",
       "      <td>90</td>\n",
       "      <td>Private</td>\n",
       "      <td>77053</td>\n",
       "      <td>9</td>\n",
       "      <td>Widowed</td>\n",
       "      <td>NaN</td>\n",
       "      <td>White</td>\n",
       "      <td>Female</td>\n",
       "      <td>0</td>\n",
       "      <td>4356</td>\n",
       "      <td>40</td>\n",
       "      <td>United-States</td>\n",
       "      <td>&lt;=50K</td>\n",
       "    </tr>\n",
       "    <tr>\n",
       "      <th>1</th>\n",
       "      <td>82</td>\n",
       "      <td>Private</td>\n",
       "      <td>132870</td>\n",
       "      <td>9</td>\n",
       "      <td>Widowed</td>\n",
       "      <td>Exec-managerial</td>\n",
       "      <td>White</td>\n",
       "      <td>Female</td>\n",
       "      <td>0</td>\n",
       "      <td>4356</td>\n",
       "      <td>18</td>\n",
       "      <td>United-States</td>\n",
       "      <td>&lt;=50K</td>\n",
       "    </tr>\n",
       "    <tr>\n",
       "      <th>2</th>\n",
       "      <td>66</td>\n",
       "      <td>Private</td>\n",
       "      <td>186061</td>\n",
       "      <td>10</td>\n",
       "      <td>Widowed</td>\n",
       "      <td>NaN</td>\n",
       "      <td>Black</td>\n",
       "      <td>Female</td>\n",
       "      <td>0</td>\n",
       "      <td>4356</td>\n",
       "      <td>40</td>\n",
       "      <td>United-States</td>\n",
       "      <td>&lt;=50K</td>\n",
       "    </tr>\n",
       "    <tr>\n",
       "      <th>3</th>\n",
       "      <td>54</td>\n",
       "      <td>Private</td>\n",
       "      <td>140359</td>\n",
       "      <td>4</td>\n",
       "      <td>Divorced</td>\n",
       "      <td>Machine-op-inspct</td>\n",
       "      <td>White</td>\n",
       "      <td>Female</td>\n",
       "      <td>0</td>\n",
       "      <td>3900</td>\n",
       "      <td>40</td>\n",
       "      <td>United-States</td>\n",
       "      <td>&lt;=50K</td>\n",
       "    </tr>\n",
       "    <tr>\n",
       "      <th>4</th>\n",
       "      <td>41</td>\n",
       "      <td>Private</td>\n",
       "      <td>264663</td>\n",
       "      <td>10</td>\n",
       "      <td>Separated</td>\n",
       "      <td>Prof-specialty</td>\n",
       "      <td>White</td>\n",
       "      <td>Female</td>\n",
       "      <td>0</td>\n",
       "      <td>3900</td>\n",
       "      <td>40</td>\n",
       "      <td>United-States</td>\n",
       "      <td>&lt;=50K</td>\n",
       "    </tr>\n",
       "  </tbody>\n",
       "</table>\n",
       "</div>"
      ],
      "text/plain": [
       "   age workclass  fnlwgt  education.num marital.status         occupation  \\\n",
       "0   90   Private   77053              9        Widowed                NaN   \n",
       "1   82   Private  132870              9        Widowed    Exec-managerial   \n",
       "2   66   Private  186061             10        Widowed                NaN   \n",
       "3   54   Private  140359              4       Divorced  Machine-op-inspct   \n",
       "4   41   Private  264663             10      Separated     Prof-specialty   \n",
       "\n",
       "    race     sex  capital.gain  capital.loss  hours.per.week native.country  \\\n",
       "0  White  Female             0          4356              40  United-States   \n",
       "1  White  Female             0          4356              18  United-States   \n",
       "2  Black  Female             0          4356              40  United-States   \n",
       "3  White  Female             0          3900              40  United-States   \n",
       "4  White  Female             0          3900              40  United-States   \n",
       "\n",
       "  income  \n",
       "0  <=50K  \n",
       "1  <=50K  \n",
       "2  <=50K  \n",
       "3  <=50K  \n",
       "4  <=50K  "
      ]
     },
     "execution_count": 5,
     "metadata": {},
     "output_type": "execute_result"
    }
   ],
   "source": [
    "data.head()"
   ]
  },
  {
   "cell_type": "code",
   "execution_count": 6,
   "metadata": {},
   "outputs": [],
   "source": [
    "def transform(data):\n",
    "    data['native.country'] = [1 if x == 'United-States' else 0 for x in data['native.country']]\n",
    "    # data['workclass'] = [1 if x == 'Private' else 0 for x in data['workclass']]\n",
    "    data['race'] = [1 if x == 'White' else 0 for x in data['race']]\n",
    "    data['sex'] = [1 if x == 'Male' else 0 for x in data['sex']]\n",
    "    data['income'] = [0 if x == '<=50K' else 1 for x in data['income']]\n",
    "    # marital_stat = {'Divorced':'Separated', 'Separated':'Separated', 'Widowed':'Separated',\n",
    "                    #'Married-AF-spouse':'Married', 'Married-civ-spouse':'Married', 'Married-spouse-absent':'Married',\n",
    "                    #'Never-married':'Never married'}\n",
    "    marital_stat = {'Divorced':'Single', 'Separated':'Single', 'Widowed':'Single','Never-married':'Single',\n",
    "                    'Married-AF-spouse':'Married', 'Married-civ-spouse':'Married', 'Married-spouse-absent':'Married'}\n",
    "    data['marital.status'] = [marital_stat[x] for x in data['marital.status']]\n",
    "    workclass = {'Private':'Private',\n",
    "                 'Self-emp-not-inc':'Self', 'Self-emp-inc':'Self', 'Never-worked':'Self', 'Without-pay':'Self',\n",
    "                 'Federal-gov':'Public', 'Local-gov':'Public', 'State-gov':'Public'}\n",
    "    data['workclass'] = [workclass[x] for x in data['workclass']]\n",
    "    # data = data.sample(frac=1) # cette ligne au milieu de la fonction ne marche pas -> POURQUOI ?\n",
    "    return\n",
    "\n",
    "transform(data)"
   ]
  },
  {
   "cell_type": "code",
   "execution_count": 7,
   "metadata": {},
   "outputs": [
    {
     "data": {
      "text/html": [
       "<div>\n",
       "<style scoped>\n",
       "    .dataframe tbody tr th:only-of-type {\n",
       "        vertical-align: middle;\n",
       "    }\n",
       "\n",
       "    .dataframe tbody tr th {\n",
       "        vertical-align: top;\n",
       "    }\n",
       "\n",
       "    .dataframe thead th {\n",
       "        text-align: right;\n",
       "    }\n",
       "</style>\n",
       "<table border=\"1\" class=\"dataframe\">\n",
       "  <thead>\n",
       "    <tr style=\"text-align: right;\">\n",
       "      <th></th>\n",
       "      <th>age</th>\n",
       "      <th>workclass</th>\n",
       "      <th>fnlwgt</th>\n",
       "      <th>education.num</th>\n",
       "      <th>marital.status</th>\n",
       "      <th>occupation</th>\n",
       "      <th>race</th>\n",
       "      <th>sex</th>\n",
       "      <th>capital.gain</th>\n",
       "      <th>capital.loss</th>\n",
       "      <th>hours.per.week</th>\n",
       "      <th>native.country</th>\n",
       "      <th>income</th>\n",
       "    </tr>\n",
       "  </thead>\n",
       "  <tbody>\n",
       "    <tr>\n",
       "      <th>0</th>\n",
       "      <td>90</td>\n",
       "      <td>Private</td>\n",
       "      <td>77053</td>\n",
       "      <td>9</td>\n",
       "      <td>Single</td>\n",
       "      <td>NaN</td>\n",
       "      <td>1</td>\n",
       "      <td>0</td>\n",
       "      <td>0</td>\n",
       "      <td>4356</td>\n",
       "      <td>40</td>\n",
       "      <td>1</td>\n",
       "      <td>0</td>\n",
       "    </tr>\n",
       "    <tr>\n",
       "      <th>1</th>\n",
       "      <td>82</td>\n",
       "      <td>Private</td>\n",
       "      <td>132870</td>\n",
       "      <td>9</td>\n",
       "      <td>Single</td>\n",
       "      <td>Exec-managerial</td>\n",
       "      <td>1</td>\n",
       "      <td>0</td>\n",
       "      <td>0</td>\n",
       "      <td>4356</td>\n",
       "      <td>18</td>\n",
       "      <td>1</td>\n",
       "      <td>0</td>\n",
       "    </tr>\n",
       "    <tr>\n",
       "      <th>2</th>\n",
       "      <td>66</td>\n",
       "      <td>Private</td>\n",
       "      <td>186061</td>\n",
       "      <td>10</td>\n",
       "      <td>Single</td>\n",
       "      <td>NaN</td>\n",
       "      <td>0</td>\n",
       "      <td>0</td>\n",
       "      <td>0</td>\n",
       "      <td>4356</td>\n",
       "      <td>40</td>\n",
       "      <td>1</td>\n",
       "      <td>0</td>\n",
       "    </tr>\n",
       "    <tr>\n",
       "      <th>3</th>\n",
       "      <td>54</td>\n",
       "      <td>Private</td>\n",
       "      <td>140359</td>\n",
       "      <td>4</td>\n",
       "      <td>Single</td>\n",
       "      <td>Machine-op-inspct</td>\n",
       "      <td>1</td>\n",
       "      <td>0</td>\n",
       "      <td>0</td>\n",
       "      <td>3900</td>\n",
       "      <td>40</td>\n",
       "      <td>1</td>\n",
       "      <td>0</td>\n",
       "    </tr>\n",
       "    <tr>\n",
       "      <th>4</th>\n",
       "      <td>41</td>\n",
       "      <td>Private</td>\n",
       "      <td>264663</td>\n",
       "      <td>10</td>\n",
       "      <td>Single</td>\n",
       "      <td>Prof-specialty</td>\n",
       "      <td>1</td>\n",
       "      <td>0</td>\n",
       "      <td>0</td>\n",
       "      <td>3900</td>\n",
       "      <td>40</td>\n",
       "      <td>1</td>\n",
       "      <td>0</td>\n",
       "    </tr>\n",
       "  </tbody>\n",
       "</table>\n",
       "</div>"
      ],
      "text/plain": [
       "   age workclass  fnlwgt  education.num marital.status         occupation  \\\n",
       "0   90   Private   77053              9         Single                NaN   \n",
       "1   82   Private  132870              9         Single    Exec-managerial   \n",
       "2   66   Private  186061             10         Single                NaN   \n",
       "3   54   Private  140359              4         Single  Machine-op-inspct   \n",
       "4   41   Private  264663             10         Single     Prof-specialty   \n",
       "\n",
       "   race  sex  capital.gain  capital.loss  hours.per.week  native.country  \\\n",
       "0     1    0             0          4356              40               1   \n",
       "1     1    0             0          4356              18               1   \n",
       "2     0    0             0          4356              40               1   \n",
       "3     1    0             0          3900              40               1   \n",
       "4     1    0             0          3900              40               1   \n",
       "\n",
       "   income  \n",
       "0       0  \n",
       "1       0  \n",
       "2       0  \n",
       "3       0  \n",
       "4       0  "
      ]
     },
     "execution_count": 7,
     "metadata": {},
     "output_type": "execute_result"
    }
   ],
   "source": [
    "data.head()"
   ]
  },
  {
   "cell_type": "code",
   "execution_count": 8,
   "metadata": {},
   "outputs": [],
   "source": [
    "data = data.sample(frac=1)"
   ]
  },
  {
   "cell_type": "code",
   "execution_count": 9,
   "metadata": {},
   "outputs": [],
   "source": [
    "# Attention : ne pas supprimer le champ 'sex' pour la prédiction de 'occupation' ! \n",
    "# Attention : bien supprimer le champ 'fnlwgt' pour la prédiction de 'occupation' ! \n",
    "\n",
    "def complete_occupation(data):\n",
    "    \"\"\"Fill missing data in 'occupation' column with a KNN prediction \"\"\"\n",
    "    df = data.copy()\n",
    "    df.drop('income', axis=1, inplace=True)\n",
    "    if 'fnlwgt' in df.columns:\n",
    "        df.drop('fnlwgt', axis=1, inplace=True)\n",
    "    # Séparation des sets : train et prédiction\n",
    "    train = df.dropna()\n",
    "    prediction = pd.get_dummies(df[df['occupation'].isnull()].drop('occupation', axis=1))\n",
    "    # Prédiction avec un modèle KNN\n",
    "    X = pd.get_dummies(train.drop('occupation', axis=1))\n",
    "    for x in X.columns:\n",
    "        if x not in prediction.columns:\n",
    "            prediction[x]=0\n",
    "    Y = train['occupation']\n",
    "    knn = KNeighborsClassifier(n_neighbors=23)\n",
    "    knn.fit(X,Y)\n",
    "    result = knn.predict(prediction)\n",
    "    # Inscrire les résultats de la prédiction dans le df 'prediction'\n",
    "    prediction['occupation']=[x for x in result]\n",
    "    # Compléter les données manquantes du df initial ('data') grâce aux données prédites ('prediction')\n",
    "    for index in prediction.index:\n",
    "        data.loc[index,'occupation'] = prediction.loc[index,'occupation']\n",
    "    # Calcul du score\n",
    "    scores_accu = cross_val_score(knn, X, Y, cv=5, scoring='accuracy')\n",
    "    print(\"Accuracy du modèle KNN: Moyenne:{}; Ecart-type:{}\".format(np.mean(scores_accu),np.std(scores_accu)))\n",
    "    #scores_f1 = cross_val_score(knn, X, Y, cv=5, scoring='f1')\n",
    "    #print(\"F1-score: Moyenne:{}; Ecart-type:{}\".format(np.mean(scores_f1),np.std(scores_f1)))\n",
    "    # RQ: le calcul du F1 score ne marche pas\n",
    "    return"
   ]
  },
  {
   "cell_type": "code",
   "execution_count": 10,
   "metadata": {},
   "outputs": [
    {
     "name": "stdout",
     "output_type": "stream",
     "text": [
      "Accuracy du modèle KNN: Moyenne:0.2823084617981753; Ecart-type:0.006964328243763412\n"
     ]
    }
   ],
   "source": [
    "complete_occupation(data)"
   ]
  },
  {
   "cell_type": "code",
   "execution_count": 11,
   "metadata": {},
   "outputs": [
    {
     "data": {
      "text/html": [
       "<div>\n",
       "<style scoped>\n",
       "    .dataframe tbody tr th:only-of-type {\n",
       "        vertical-align: middle;\n",
       "    }\n",
       "\n",
       "    .dataframe tbody tr th {\n",
       "        vertical-align: top;\n",
       "    }\n",
       "\n",
       "    .dataframe thead th {\n",
       "        text-align: right;\n",
       "    }\n",
       "</style>\n",
       "<table border=\"1\" class=\"dataframe\">\n",
       "  <thead>\n",
       "    <tr style=\"text-align: right;\">\n",
       "      <th></th>\n",
       "      <th>age</th>\n",
       "      <th>workclass</th>\n",
       "      <th>fnlwgt</th>\n",
       "      <th>education.num</th>\n",
       "      <th>marital.status</th>\n",
       "      <th>occupation</th>\n",
       "      <th>race</th>\n",
       "      <th>sex</th>\n",
       "      <th>capital.gain</th>\n",
       "      <th>capital.loss</th>\n",
       "      <th>hours.per.week</th>\n",
       "      <th>native.country</th>\n",
       "      <th>income</th>\n",
       "    </tr>\n",
       "  </thead>\n",
       "  <tbody>\n",
       "    <tr>\n",
       "      <th>18261</th>\n",
       "      <td>41</td>\n",
       "      <td>Private</td>\n",
       "      <td>207578</td>\n",
       "      <td>9</td>\n",
       "      <td>Married</td>\n",
       "      <td>Transport-moving</td>\n",
       "      <td>1</td>\n",
       "      <td>1</td>\n",
       "      <td>0</td>\n",
       "      <td>0</td>\n",
       "      <td>40</td>\n",
       "      <td>1</td>\n",
       "      <td>1</td>\n",
       "    </tr>\n",
       "    <tr>\n",
       "      <th>10521</th>\n",
       "      <td>40</td>\n",
       "      <td>Private</td>\n",
       "      <td>204046</td>\n",
       "      <td>6</td>\n",
       "      <td>Single</td>\n",
       "      <td>Transport-moving</td>\n",
       "      <td>1</td>\n",
       "      <td>1</td>\n",
       "      <td>0</td>\n",
       "      <td>0</td>\n",
       "      <td>40</td>\n",
       "      <td>1</td>\n",
       "      <td>0</td>\n",
       "    </tr>\n",
       "    <tr>\n",
       "      <th>9997</th>\n",
       "      <td>18</td>\n",
       "      <td>Private</td>\n",
       "      <td>128538</td>\n",
       "      <td>10</td>\n",
       "      <td>Single</td>\n",
       "      <td>Other-service</td>\n",
       "      <td>1</td>\n",
       "      <td>0</td>\n",
       "      <td>0</td>\n",
       "      <td>0</td>\n",
       "      <td>6</td>\n",
       "      <td>1</td>\n",
       "      <td>0</td>\n",
       "    </tr>\n",
       "    <tr>\n",
       "      <th>3340</th>\n",
       "      <td>36</td>\n",
       "      <td>Self</td>\n",
       "      <td>138940</td>\n",
       "      <td>13</td>\n",
       "      <td>Married</td>\n",
       "      <td>Exec-managerial</td>\n",
       "      <td>1</td>\n",
       "      <td>1</td>\n",
       "      <td>4386</td>\n",
       "      <td>0</td>\n",
       "      <td>50</td>\n",
       "      <td>1</td>\n",
       "      <td>1</td>\n",
       "    </tr>\n",
       "    <tr>\n",
       "      <th>23777</th>\n",
       "      <td>27</td>\n",
       "      <td>Private</td>\n",
       "      <td>85126</td>\n",
       "      <td>9</td>\n",
       "      <td>Single</td>\n",
       "      <td>Machine-op-inspct</td>\n",
       "      <td>1</td>\n",
       "      <td>0</td>\n",
       "      <td>0</td>\n",
       "      <td>0</td>\n",
       "      <td>40</td>\n",
       "      <td>1</td>\n",
       "      <td>0</td>\n",
       "    </tr>\n",
       "  </tbody>\n",
       "</table>\n",
       "</div>"
      ],
      "text/plain": [
       "       age workclass  fnlwgt  education.num marital.status         occupation  \\\n",
       "18261   41   Private  207578              9        Married   Transport-moving   \n",
       "10521   40   Private  204046              6         Single   Transport-moving   \n",
       "9997    18   Private  128538             10         Single      Other-service   \n",
       "3340    36      Self  138940             13        Married    Exec-managerial   \n",
       "23777   27   Private   85126              9         Single  Machine-op-inspct   \n",
       "\n",
       "       race  sex  capital.gain  capital.loss  hours.per.week  native.country  \\\n",
       "18261     1    1             0             0              40               1   \n",
       "10521     1    1             0             0              40               1   \n",
       "9997      1    0             0             0               6               1   \n",
       "3340      1    1          4386             0              50               1   \n",
       "23777     1    0             0             0              40               1   \n",
       "\n",
       "       income  \n",
       "18261       1  \n",
       "10521       0  \n",
       "9997        0  \n",
       "3340        1  \n",
       "23777       0  "
      ]
     },
     "execution_count": 11,
     "metadata": {},
     "output_type": "execute_result"
    }
   ],
   "source": [
    "data.head()"
   ]
  },
  {
   "cell_type": "markdown",
   "metadata": {},
   "source": [
    "### Modèle de prédiction Random Forest"
   ]
  },
  {
   "cell_type": "code",
   "execution_count": 12,
   "metadata": {},
   "outputs": [],
   "source": [
    "# Tests de colonne à supprimer\n",
    "df_test = data.copy()\n",
    "# Attention à bien mélanger les lignes avant de lancer le modèle\n",
    "df_test = df_test.sample(frac=1)\n",
    "#df_test.drop('sex', axis=1, inplace=True)\n",
    "#df_test.drop('native.country', axis=1, inplace=True)\n",
    "#df_test.drop('race', axis=1, inplace=True)\n",
    "# df_test.drop('workclass', axis=1, inplace=True)"
   ]
  },
  {
   "cell_type": "code",
   "execution_count": 13,
   "metadata": {},
   "outputs": [],
   "source": [
    "X = pd.get_dummies(df_test.drop('income', axis=1))\n",
    "Y = df_test['income']"
   ]
  },
  {
   "cell_type": "code",
   "execution_count": 14,
   "metadata": {},
   "outputs": [
    {
     "data": {
      "text/plain": [
       "28"
      ]
     },
     "execution_count": 14,
     "metadata": {},
     "output_type": "execute_result"
    }
   ],
   "source": [
    "len(X.columns)"
   ]
  },
  {
   "cell_type": "markdown",
   "metadata": {},
   "source": [
    "Grid Search"
   ]
  },
  {
   "cell_type": "code",
   "execution_count": 15,
   "metadata": {},
   "outputs": [],
   "source": [
    "clf_rf = RandomForestClassifier(n_estimators=200, max_features=0.1, n_jobs=-1)"
   ]
  },
  {
   "cell_type": "code",
   "execution_count": null,
   "metadata": {},
   "outputs": [],
   "source": [
    "# pour le nombre d'arbres\n",
    "n_estimators = [i for i in range(20,301,20)]\n",
    "parameters = {'n_estimators': n_estimators}\n",
    "clf_gs_rf = GridSearchCV(clf_rf, parameters, cv=5, scoring='accuracy')\n",
    "clf_gs_rf.fit(X, Y)"
   ]
  },
  {
   "cell_type": "code",
   "execution_count": null,
   "metadata": {},
   "outputs": [],
   "source": [
    "clf_gs_rf.cv_results_"
   ]
  },
  {
   "cell_type": "code",
   "execution_count": null,
   "metadata": {},
   "outputs": [],
   "source": [
    "clf_gs_rf.best_params_"
   ]
  },
  {
   "cell_type": "code",
   "execution_count": null,
   "metadata": {},
   "outputs": [],
   "source": [
    "# pour max_features\n",
    "max_features = ['auto', 'log2', 0.1, 0.2, 0.5]\n",
    "parameters = {'max_features': max_features}\n",
    "clf_gs_rf = GridSearchCV(clf_rf, parameters, cv=5, scoring='accuracy')\n",
    "clf_gs_rf.fit(X, Y)"
   ]
  },
  {
   "cell_type": "code",
   "execution_count": null,
   "metadata": {},
   "outputs": [],
   "source": [
    "clf_gs_rf.cv_results_"
   ]
  },
  {
   "cell_type": "code",
   "execution_count": null,
   "metadata": {},
   "outputs": [],
   "source": [
    "clf_gs_rf.best_params_"
   ]
  },
  {
   "cell_type": "code",
   "execution_count": 16,
   "metadata": {},
   "outputs": [
    {
     "data": {
      "text/plain": [
       "GridSearchCV(cv=5, error_score='raise-deprecating',\n",
       "       estimator=RandomForestClassifier(bootstrap=True, class_weight=None, criterion='gini',\n",
       "            max_depth=None, max_features=0.1, max_leaf_nodes=None,\n",
       "            min_impurity_decrease=0.0, min_impurity_split=None,\n",
       "            min_samples_leaf=1, min_samples_split=2,\n",
       "            min_weight_fraction_leaf=0.0, n_estimators=200, n_jobs=-1,\n",
       "            oob_score=False, random_state=None, verbose=0,\n",
       "            warm_start=False),\n",
       "       fit_params=None, iid='warn', n_jobs=None,\n",
       "       param_grid={'n_estimators': [20, 60, 100, 140, 180, 220, 260, 300], 'max_features': ['auto', 'log2', 0.1, 0.5]},\n",
       "       pre_dispatch='2*n_jobs', refit=True, return_train_score='warn',\n",
       "       scoring='accuracy', verbose=0)"
      ]
     },
     "execution_count": 16,
     "metadata": {},
     "output_type": "execute_result"
    }
   ],
   "source": [
    "# pour les 2 à la fois\n",
    "n_estimators = [i for i in range(20,301,40)]\n",
    "max_features = ['auto', 'log2', 0.1, 0.5]\n",
    "parameters = {'n_estimators': n_estimators, 'max_features': max_features}\n",
    "clf_gs_rf = GridSearchCV(clf_rf, parameters, cv=5, scoring='accuracy')\n",
    "clf_gs_rf.fit(X, Y)"
   ]
  },
  {
   "cell_type": "code",
   "execution_count": 17,
   "metadata": {},
   "outputs": [
    {
     "data": {
      "text/plain": [
       "{'max_features': 0.5, 'n_estimators': 300}"
      ]
     },
     "execution_count": 17,
     "metadata": {},
     "output_type": "execute_result"
    }
   ],
   "source": [
    "clf_gs_rf.best_params_"
   ]
  },
  {
   "cell_type": "code",
   "execution_count": 18,
   "metadata": {},
   "outputs": [
    {
     "data": {
      "text/plain": [
       "{'mean_fit_time': array([ 0.82923436,  1.43628125,  2.08847394,  2.96251507,  3.64377804,\n",
       "         4.48562636,  5.2692874 ,  6.07514687,  0.4806129 ,  1.23585224,\n",
       "         2.04248047,  2.76392283,  3.42918525,  4.2138042 ,  4.85807838,\n",
       "         5.65048532,  0.47500663,  1.0780272 ,  1.71565237,  2.39032664,\n",
       "         3.10176272,  4.15723729,  5.67812414,  7.17821689,  0.95526309,\n",
       "         3.04757366,  4.23782721,  5.49789381,  7.34161286,  7.79861903,\n",
       "         9.27130404, 11.32757678]),\n",
       " 'std_fit_time': array([0.41676695, 0.07626398, 0.00621948, 0.06779784, 0.01419693,\n",
       "        0.03559776, 0.0311116 , 0.03743702, 0.03492612, 0.00683535,\n",
       "        0.21294653, 0.02147836, 0.0237594 , 0.04550193, 0.01074067,\n",
       "        0.01392531, 0.00799792, 0.00712478, 0.02325785, 0.01095422,\n",
       "        0.15648942, 0.18919778, 0.94837562, 1.14976033, 0.05193031,\n",
       "        0.39621643, 0.58999394, 0.22796291, 0.81704976, 0.04296285,\n",
       "        0.30178943, 0.75471548]),\n",
       " 'mean_score_time': array([0.11164656, 0.15760927, 0.12840886, 0.21040692, 0.21141171,\n",
       "        0.31261764, 0.31421614, 0.39502225, 0.10840821, 0.10923934,\n",
       "        0.1914259 , 0.21141272, 0.21101146, 0.31341767, 0.31341662,\n",
       "        0.41702237, 0.10924034, 0.10822792, 0.20981421, 0.21101379,\n",
       "        0.31441851, 0.44962044, 0.42562404, 0.61743488, 0.11022944,\n",
       "        0.11102057, 0.19903173, 0.23281226, 0.23063102, 0.2724854 ,\n",
       "        0.33425417, 0.35463905]),\n",
       " 'std_score_time': array([0.00370226, 0.05945978, 0.03980485, 0.00049528, 0.00135655,\n",
       "        0.00185366, 0.00193824, 0.04052336, 0.00080061, 0.00100199,\n",
       "        0.04123445, 0.0008007 , 0.00063264, 0.00102021, 0.00080036,\n",
       "        0.00521489, 0.00163767, 0.00044253, 0.00039966, 0.00109685,\n",
       "        0.0035548 , 0.0800545 , 0.00997182, 0.19513088, 0.00161047,\n",
       "        0.00108368, 0.04597066, 0.04313515, 0.03969945, 0.05015316,\n",
       "        0.0439624 , 0.08119638]),\n",
       " 'param_max_features': masked_array(data=['auto', 'auto', 'auto', 'auto', 'auto', 'auto', 'auto',\n",
       "                    'auto', 'log2', 'log2', 'log2', 'log2', 'log2', 'log2',\n",
       "                    'log2', 'log2', 0.1, 0.1, 0.1, 0.1, 0.1, 0.1, 0.1, 0.1,\n",
       "                    0.5, 0.5, 0.5, 0.5, 0.5, 0.5, 0.5, 0.5],\n",
       "              mask=[False, False, False, False, False, False, False, False,\n",
       "                    False, False, False, False, False, False, False, False,\n",
       "                    False, False, False, False, False, False, False, False,\n",
       "                    False, False, False, False, False, False, False, False],\n",
       "        fill_value='?',\n",
       "             dtype=object),\n",
       " 'param_n_estimators': masked_array(data=[20, 60, 100, 140, 180, 220, 260, 300, 20, 60, 100, 140,\n",
       "                    180, 220, 260, 300, 20, 60, 100, 140, 180, 220, 260,\n",
       "                    300, 20, 60, 100, 140, 180, 220, 260, 300],\n",
       "              mask=[False, False, False, False, False, False, False, False,\n",
       "                    False, False, False, False, False, False, False, False,\n",
       "                    False, False, False, False, False, False, False, False,\n",
       "                    False, False, False, False, False, False, False, False],\n",
       "        fill_value='?',\n",
       "             dtype=object),\n",
       " 'params': [{'max_features': 'auto', 'n_estimators': 20},\n",
       "  {'max_features': 'auto', 'n_estimators': 60},\n",
       "  {'max_features': 'auto', 'n_estimators': 100},\n",
       "  {'max_features': 'auto', 'n_estimators': 140},\n",
       "  {'max_features': 'auto', 'n_estimators': 180},\n",
       "  {'max_features': 'auto', 'n_estimators': 220},\n",
       "  {'max_features': 'auto', 'n_estimators': 260},\n",
       "  {'max_features': 'auto', 'n_estimators': 300},\n",
       "  {'max_features': 'log2', 'n_estimators': 20},\n",
       "  {'max_features': 'log2', 'n_estimators': 60},\n",
       "  {'max_features': 'log2', 'n_estimators': 100},\n",
       "  {'max_features': 'log2', 'n_estimators': 140},\n",
       "  {'max_features': 'log2', 'n_estimators': 180},\n",
       "  {'max_features': 'log2', 'n_estimators': 220},\n",
       "  {'max_features': 'log2', 'n_estimators': 260},\n",
       "  {'max_features': 'log2', 'n_estimators': 300},\n",
       "  {'max_features': 0.1, 'n_estimators': 20},\n",
       "  {'max_features': 0.1, 'n_estimators': 60},\n",
       "  {'max_features': 0.1, 'n_estimators': 100},\n",
       "  {'max_features': 0.1, 'n_estimators': 140},\n",
       "  {'max_features': 0.1, 'n_estimators': 180},\n",
       "  {'max_features': 0.1, 'n_estimators': 220},\n",
       "  {'max_features': 0.1, 'n_estimators': 260},\n",
       "  {'max_features': 0.1, 'n_estimators': 300},\n",
       "  {'max_features': 0.5, 'n_estimators': 20},\n",
       "  {'max_features': 0.5, 'n_estimators': 60},\n",
       "  {'max_features': 0.5, 'n_estimators': 100},\n",
       "  {'max_features': 0.5, 'n_estimators': 140},\n",
       "  {'max_features': 0.5, 'n_estimators': 180},\n",
       "  {'max_features': 0.5, 'n_estimators': 220},\n",
       "  {'max_features': 0.5, 'n_estimators': 260},\n",
       "  {'max_features': 0.5, 'n_estimators': 300}],\n",
       " 'split0_test_score': array([0.84814985, 0.84968524, 0.84814985, 0.84814985, 0.84983878,\n",
       "        0.84922463, 0.84891755, 0.85045294, 0.8440043 , 0.85060648,\n",
       "        0.85076002, 0.85198833, 0.84784278, 0.84784278, 0.84937817,\n",
       "        0.84661446, 0.84216183, 0.84477199, 0.84799632, 0.8432366 ,\n",
       "        0.84768924, 0.84692154, 0.84814985, 0.84584677, 0.84615385,\n",
       "        0.85229541, 0.85060648, 0.85244895, 0.85045294, 0.85091356,\n",
       "        0.85183479, 0.85152771]),\n",
       " 'split1_test_score': array([0.85211916, 0.85089066, 0.85242629, 0.85411548, 0.85380835,\n",
       "        0.85380835, 0.85227273, 0.85503686, 0.84904791, 0.85104423,\n",
       "        0.85365479, 0.85380835, 0.84920147, 0.85273342, 0.85119779,\n",
       "        0.85257985, 0.84812654, 0.85150491, 0.85150491, 0.85211916,\n",
       "        0.85104423, 0.85227273, 0.85058354, 0.85211916, 0.84935504,\n",
       "        0.85181204, 0.85641892, 0.85411548, 0.85457617, 0.85672604,\n",
       "        0.85580467, 0.85534398]),\n",
       " 'split2_test_score': array([0.84858722, 0.84981572, 0.84843366, 0.84966216, 0.84904791,\n",
       "        0.84720516, 0.85058354, 0.84874079, 0.84336609, 0.84766585,\n",
       "        0.84720516, 0.84689803, 0.84996929, 0.84720516, 0.84659091,\n",
       "        0.84843366, 0.84060197, 0.84536241, 0.84889435, 0.84474816,\n",
       "        0.84536241, 0.84751229, 0.84613022, 0.84536241, 0.84904791,\n",
       "        0.85181204, 0.85380835, 0.85426904, 0.8531941 , 0.85227273,\n",
       "        0.8531941 , 0.85411548]),\n",
       " 'split3_test_score': array([0.85042998, 0.85472973, 0.85350123, 0.85795455, 0.85365479,\n",
       "        0.85534398, 0.85396192, 0.85672604, 0.85718673, 0.85288698,\n",
       "        0.85534398, 0.85595823, 0.85519042, 0.8531941 , 0.85273342,\n",
       "        0.85519042, 0.84566953, 0.85457617, 0.84889435, 0.85380835,\n",
       "        0.85058354, 0.85058354, 0.8519656 , 0.85027641, 0.8544226 ,\n",
       "        0.85534398, 0.85580467, 0.85519042, 0.85810811, 0.85549754,\n",
       "        0.85488329, 0.85611179]),\n",
       " 'split4_test_score': array([0.84935504, 0.85119779, 0.84659091, 0.8482801 , 0.85165848,\n",
       "        0.85165848, 0.85165848, 0.85150491, 0.84597666, 0.84889435,\n",
       "        0.85273342, 0.84858722, 0.84966216, 0.85089066, 0.8519656 ,\n",
       "        0.84981572, 0.84259828, 0.84966216, 0.85027641, 0.85211916,\n",
       "        0.85042998, 0.84996929, 0.84981572, 0.84996929, 0.84735872,\n",
       "        0.84766585, 0.84904791, 0.85012285, 0.8482801 , 0.85104423,\n",
       "        0.85104423, 0.85089066]),\n",
       " 'mean_test_score': array([0.8497282 , 0.85126378, 0.84982034, 0.85163232, 0.85160161,\n",
       "        0.85144805, 0.85147876, 0.85249225, 0.84791622, 0.85021959,\n",
       "        0.85193944, 0.85144805, 0.85037315, 0.85037315, 0.85037315,\n",
       "        0.8505267 , 0.84383158, 0.84917539, 0.84951322, 0.84920611,\n",
       "        0.84902184, 0.8494518 , 0.84932895, 0.84871472, 0.84926753,\n",
       "        0.85178588, 0.85313719, 0.85322932, 0.85292221, 0.85329075,\n",
       "        0.85335217, 0.85359786]),\n",
       " 'std_test_score': array([0.00142419, 0.00183002, 0.0026639 , 0.003831  , 0.0019348 ,\n",
       "        0.00295766, 0.00168467, 0.00295318, 0.00503965, 0.00180122,\n",
       "        0.00279167, 0.00331934, 0.00251596, 0.00245908, 0.00219461,\n",
       "        0.00303837, 0.0027042 , 0.00370841, 0.00123421, 0.00432813,\n",
       "        0.00217617, 0.00198346, 0.00201914, 0.00264826, 0.00282735,\n",
       "        0.00244519, 0.00287965, 0.00178723, 0.0033867 , 0.0023835 ,\n",
       "        0.00178958, 0.00206161]),\n",
       " 'rank_test_score': array([22, 15, 21, 10, 11, 13, 12,  7, 31, 20,  8, 13, 17, 17, 17, 16, 32,\n",
       "        28, 23, 27, 29, 24, 25, 30, 26,  9,  5,  4,  6,  3,  2,  1]),\n",
       " 'split0_train_score': array([0.99585381, 0.99973127, 0.99988483, 0.99992322, 0.99992322,\n",
       "        0.99992322, 0.99992322, 0.99992322, 0.99673679, 0.99973127,\n",
       "        0.99980805, 0.99992322, 0.99992322, 0.99992322, 0.99992322,\n",
       "        0.99992322, 0.99550829, 0.99973127, 0.99992322, 0.99992322,\n",
       "        0.99992322, 0.99992322, 0.99992322, 0.99992322, 0.99604576,\n",
       "        0.99953931, 0.99992322, 0.99992322, 0.99992322, 0.99992322,\n",
       "        0.99992322, 0.99992322]),\n",
       " 'split1_train_score': array([0.99604591, 0.99976966, 0.99992322, 0.99992322, 0.99992322,\n",
       "        0.99992322, 0.99992322, 0.99992322, 0.99662175, 0.99950094,\n",
       "        0.99988483, 0.99988483, 0.99992322, 0.99992322, 0.99992322,\n",
       "        0.99992322, 0.99581558, 0.99980805, 0.99984644, 0.99992322,\n",
       "        0.99992322, 0.99992322, 0.99992322, 0.99992322, 0.99581558,\n",
       "        0.9996545 , 0.99988483, 0.99992322, 0.99992322, 0.99992322,\n",
       "        0.99992322, 0.99992322]),\n",
       " 'split2_train_score': array([0.99535491, 0.99969289, 0.99980805, 0.99996161, 0.99996161,\n",
       "        0.99996161, 0.99996161, 0.99996161, 0.99600752, 0.99980805,\n",
       "        0.99996161, 0.99996161, 0.99996161, 0.99996161, 0.99996161,\n",
       "        0.99996161, 0.99585397, 0.99973128, 0.99992322, 0.99996161,\n",
       "        0.99996161, 0.99996161, 0.99996161, 0.99996161, 0.99593075,\n",
       "        0.99942416, 0.99988483, 0.99996161, 0.99996161, 0.99996161,\n",
       "        0.99996161, 0.99996161]),\n",
       " 'split3_train_score': array([0.99585397, 0.9996545 , 0.99992322, 0.99996161, 0.99996161,\n",
       "        0.99996161, 0.99996161, 0.99996161, 0.99619947, 0.99957772,\n",
       "        0.99996161, 0.99996161, 0.99996161, 0.99996161, 0.99996161,\n",
       "        0.99996161, 0.9960843 , 0.99984644, 0.99996161, 0.99992322,\n",
       "        0.99996161, 0.99996161, 0.99996161, 0.99996161, 0.99593075,\n",
       "        0.99973128, 0.99988483, 0.99996161, 0.99996161, 0.99996161,\n",
       "        0.99996161, 0.99996161]),\n",
       " 'split4_train_score': array([0.99616108, 0.99950094, 0.99992322, 0.99992322, 0.99992322,\n",
       "        0.99992322, 0.99992322, 0.99992322, 0.99593075, 0.99976966,\n",
       "        0.99988483, 0.99992322, 0.99992322, 0.99992322, 0.99992322,\n",
       "        0.99992322, 0.99512457, 0.9996545 , 0.99984644, 0.99988483,\n",
       "        0.99992322, 0.99992322, 0.99992322, 0.99992322, 0.99612269,\n",
       "        0.99980805, 0.99988483, 0.99992322, 0.99992322, 0.99992322,\n",
       "        0.99992322, 0.99992322]),\n",
       " 'mean_train_score': array([0.99585394, 0.99966985, 0.99989251, 0.99993858, 0.99993858,\n",
       "        0.99993858, 0.99993858, 0.99993858, 0.99629926, 0.99967753,\n",
       "        0.99990019, 0.9999309 , 0.99993858, 0.99993858, 0.99993858,\n",
       "        0.99993858, 0.99567734, 0.99975431, 0.99990019, 0.99992322,\n",
       "        0.99993858, 0.99993858, 0.99993858, 0.99993858, 0.9959691 ,\n",
       "        0.99963146, 0.99989251, 0.99993858, 0.99993858, 0.99993858,\n",
       "        0.99993858, 0.99993858]),\n",
       " 'std_train_score': array([2.75761610e-04, 9.27703026e-05, 4.47692553e-05, 1.88072666e-05,\n",
       "        1.88072666e-05, 1.88072666e-05, 1.88072666e-05, 1.88072666e-05,\n",
       "        3.24440034e-04, 1.17948244e-04, 5.74580413e-05, 2.87279965e-05,\n",
       "        1.88072666e-05, 1.88072666e-05, 1.88072666e-05, 1.88072666e-05,\n",
       "        3.31678841e-04, 6.69345494e-05, 4.60667328e-05, 2.42794554e-05,\n",
       "        1.88072666e-05, 1.88072666e-05, 1.88072666e-05, 1.88072666e-05,\n",
       "        1.05809682e-04, 1.36486620e-04, 1.53544968e-05, 1.88072666e-05,\n",
       "        1.88072666e-05, 1.88072666e-05, 1.88072666e-05, 1.88072666e-05])}"
      ]
     },
     "execution_count": 18,
     "metadata": {},
     "output_type": "execute_result"
    }
   ],
   "source": [
    "clf_gs_rf.cv_results_"
   ]
  },
  {
   "cell_type": "markdown",
   "metadata": {},
   "source": [
    "Modèle paramétré"
   ]
  },
  {
   "cell_type": "code",
   "execution_count": 19,
   "metadata": {},
   "outputs": [
    {
     "data": {
      "text/plain": [
       "RandomForestClassifier(bootstrap=True, class_weight=None, criterion='gini',\n",
       "            max_depth=None, max_features=0.5, max_leaf_nodes=None,\n",
       "            min_impurity_decrease=0.0, min_impurity_split=None,\n",
       "            min_samples_leaf=1, min_samples_split=2,\n",
       "            min_weight_fraction_leaf=0.0, n_estimators=300, n_jobs=-1,\n",
       "            oob_score=False, random_state=None, verbose=0,\n",
       "            warm_start=False)"
      ]
     },
     "execution_count": 19,
     "metadata": {},
     "output_type": "execute_result"
    }
   ],
   "source": [
    "clf_rf = RandomForestClassifier(n_estimators=300, max_features=0.5, n_jobs=-1)\n",
    "clf_rf.fit(X,Y)"
   ]
  },
  {
   "cell_type": "markdown",
   "metadata": {},
   "source": [
    "Importance des features"
   ]
  },
  {
   "cell_type": "code",
   "execution_count": 20,
   "metadata": {},
   "outputs": [
    {
     "data": {
      "text/html": [
       "<div>\n",
       "<style scoped>\n",
       "    .dataframe tbody tr th:only-of-type {\n",
       "        vertical-align: middle;\n",
       "    }\n",
       "\n",
       "    .dataframe tbody tr th {\n",
       "        vertical-align: top;\n",
       "    }\n",
       "\n",
       "    .dataframe thead th {\n",
       "        text-align: right;\n",
       "    }\n",
       "</style>\n",
       "<table border=\"1\" class=\"dataframe\">\n",
       "  <thead>\n",
       "    <tr style=\"text-align: right;\">\n",
       "      <th></th>\n",
       "      <th>feature_importance</th>\n",
       "    </tr>\n",
       "    <tr>\n",
       "      <th>category</th>\n",
       "      <th></th>\n",
       "    </tr>\n",
       "  </thead>\n",
       "  <tbody>\n",
       "    <tr>\n",
       "      <th>fnlwgt</th>\n",
       "      <td>0.192076</td>\n",
       "    </tr>\n",
       "    <tr>\n",
       "      <th>marital.status</th>\n",
       "      <td>0.178372</td>\n",
       "    </tr>\n",
       "    <tr>\n",
       "      <th>age</th>\n",
       "      <td>0.136332</td>\n",
       "    </tr>\n",
       "    <tr>\n",
       "      <th>education.num</th>\n",
       "      <td>0.121466</td>\n",
       "    </tr>\n",
       "    <tr>\n",
       "      <th>capital.gain</th>\n",
       "      <td>0.115186</td>\n",
       "    </tr>\n",
       "    <tr>\n",
       "      <th>occupation</th>\n",
       "      <td>0.080555</td>\n",
       "    </tr>\n",
       "    <tr>\n",
       "      <th>hours.per.week</th>\n",
       "      <td>0.074928</td>\n",
       "    </tr>\n",
       "    <tr>\n",
       "      <th>capital.loss</th>\n",
       "      <td>0.037465</td>\n",
       "    </tr>\n",
       "    <tr>\n",
       "      <th>workclass</th>\n",
       "      <td>0.029738</td>\n",
       "    </tr>\n",
       "    <tr>\n",
       "      <th>sex</th>\n",
       "      <td>0.014007</td>\n",
       "    </tr>\n",
       "    <tr>\n",
       "      <th>race</th>\n",
       "      <td>0.011026</td>\n",
       "    </tr>\n",
       "    <tr>\n",
       "      <th>native.country</th>\n",
       "      <td>0.008847</td>\n",
       "    </tr>\n",
       "  </tbody>\n",
       "</table>\n",
       "</div>"
      ],
      "text/plain": [
       "                feature_importance\n",
       "category                          \n",
       "fnlwgt                    0.192076\n",
       "marital.status            0.178372\n",
       "age                       0.136332\n",
       "education.num             0.121466\n",
       "capital.gain              0.115186\n",
       "occupation                0.080555\n",
       "hours.per.week            0.074928\n",
       "capital.loss              0.037465\n",
       "workclass                 0.029738\n",
       "sex                       0.014007\n",
       "race                      0.011026\n",
       "native.country            0.008847"
      ]
     },
     "execution_count": 20,
     "metadata": {},
     "output_type": "execute_result"
    }
   ],
   "source": [
    "feature_categories = [X.columns[i].split('_')[0] for i in range(len(X.columns))]\n",
    "grouped_features = pd.DataFrame(data={'feature_importance':clf_rf.feature_importances_,'category':feature_categories}).groupby('category').sum()\n",
    "grouped_features.sort_values(by='feature_importance', ascending=False)"
   ]
  },
  {
   "cell_type": "markdown",
   "metadata": {},
   "source": [
    "Scores"
   ]
  },
  {
   "cell_type": "code",
   "execution_count": 21,
   "metadata": {},
   "outputs": [
    {
     "data": {
      "text/plain": [
       "(0.852154413531659, 0.001591510451724049)"
      ]
     },
     "execution_count": 21,
     "metadata": {},
     "output_type": "execute_result"
    }
   ],
   "source": [
    "# Accuracy\n",
    "scores = cross_val_score(clf_rf, X, Y, cv=5, scoring='accuracy')\n",
    "np.mean(scores), np.std(scores)"
   ]
  },
  {
   "cell_type": "code",
   "execution_count": 22,
   "metadata": {},
   "outputs": [
    {
     "data": {
      "text/plain": [
       "(0.6651636847884853, 0.00731482058108925)"
      ]
     },
     "execution_count": 22,
     "metadata": {},
     "output_type": "execute_result"
    }
   ],
   "source": [
    "# F1-score\n",
    "scores = cross_val_score(clf_rf, X, Y, cv=5, scoring='f1')\n",
    "np.mean(scores), np.std(scores)"
   ]
  },
  {
   "cell_type": "code",
   "execution_count": null,
   "metadata": {},
   "outputs": [],
   "source": []
  }
 ],
 "metadata": {
  "kernelspec": {
   "display_name": "Python 3",
   "language": "python",
   "name": "python3"
  },
  "language_info": {
   "codemirror_mode": {
    "name": "ipython",
    "version": 3
   },
   "file_extension": ".py",
   "mimetype": "text/x-python",
   "name": "python",
   "nbconvert_exporter": "python",
   "pygments_lexer": "ipython3",
   "version": "3.7.2"
  }
 },
 "nbformat": 4,
 "nbformat_minor": 2
}
