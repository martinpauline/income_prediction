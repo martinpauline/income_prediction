{
 "cells": [
  {
   "cell_type": "code",
   "execution_count": null,
   "metadata": {},
   "outputs": [],
   "source": [
    "# Import modules\n",
    "import warnings\n",
    "warnings.filterwarnings('ignore')\n",
    "import numpy as np\n",
    "import pandas as pd\n",
    "import seaborn as sns\n",
    "import matplotlib.pyplot as plt\n",
    "# Enrichissement des données\n",
    "from sklearn.impute import SimpleImputer\n",
    "# Random Forest\n",
    "from sklearn.model_selection import GridSearchCV\n",
    "from sklearn.model_selection import cross_val_score\n",
    "\n",
    "%matplotlib inline"
   ]
  },
  {
   "cell_type": "markdown",
   "metadata": {},
   "source": [
    "### Preprocessing"
   ]
  },
  {
   "cell_type": "code",
   "execution_count": null,
   "metadata": {},
   "outputs": [],
   "source": [
    "data = pd.read_csv(\"data/adult.csv\", na_values='?')"
   ]
  },
  {
   "cell_type": "code",
   "execution_count": null,
   "metadata": {},
   "outputs": [],
   "source": [
    "# Traitements qui sont actés\n",
    "def remove_columns(data):\n",
    "    \"\"\"Remove useless columns\"\"\"\n",
    "    data.drop('education', axis=1, inplace=True)\n",
    "    data.drop('fnlwgt', axis=1, inplace=True)\n",
    "    return\n",
    "\n",
    "def complete_except_occupation(data):\n",
    "    \"\"\" Fill missing data in some columns with a SimpleImputer\"\"\"\n",
    "    imp = SimpleImputer(missing_values=np.nan, strategy='most_frequent')\n",
    "    data['workclass'] = imp.fit_transform(data[['workclass']])\n",
    "    data['native.country'] = imp.fit_transform(data[['native.country']])\n",
    "    return\n",
    "\n",
    "def transform(data):\n",
    "    \"\"\"Transform multi categorical data into binary data (to properly apply prediction models)\"\"\"\n",
    "    data['native.country'] = [1 if x == 'United-States' else 0 for x in data['native.country']]\n",
    "    data['workclass'] = [1 if x == 'Private' else 0 for x in data['workclass']]\n",
    "    data['race'] = [1 if x == 'White' else 0 for x in data['race']]\n",
    "    data['sex'] = [1 if x == 'Male' else 0 for x in data['sex']]\n",
    "    data['income'] = [0 if x == '<=50K' else 1 for x in data['income']]"
   ]
  },
  {
   "cell_type": "code",
   "execution_count": 1,
   "metadata": {},
   "outputs": [],
   "source": [
    "# à relire et tester si tout est bien là\n",
    "def complete_occupation(data):\n",
    "    \"\"\"Fill missing data in 'occupation' column with a KNN prediction \"\"\"\n",
    "    df = data.copy()\n",
    "    df.drop('income', axis=1, inplace=True)\n",
    "    # Séparation des sets : train et prédiction\n",
    "    train = df.dropna()\n",
    "    prediction = pd.get_dummies(df[df['occupation'].isnull()].drop('occupation', axis=1))\n",
    "    # Prédiction avec un modèle KNN\n",
    "    X = pd.get_dummies(train.drop('occupation', axis=1))\n",
    "    Y = train['occupation']\n",
    "    clf_knn = KNeighborsClassifier(n_neighbors=20)\n",
    "    clf_knn.fit(X,Y)\n",
    "    result_knn = clf_knn.predict(prediction)\n",
    "    # Inscrire les résultats de la prédiction dans le df 'prediction'\n",
    "    prediction['occupation']=[x for x in result_knn]\n",
    "    # Compléter les données manquantes du df initial ('data') grâce aux données prédites ('prediction')\n",
    "    for index in prediction.index:\n",
    "        data.loc[index,'occupation'] = prediction.loc[index,'occupation']\n",
    "    return\n",
    "\n",
    "# + ajouter calcul de score de ce KNN (qui sera modifié si on modifie les prétraitements au dessus)"
   ]
  },
  {
   "cell_type": "markdown",
   "metadata": {},
   "source": [
    "à regarder pour le preprocessing (dans le modèle et dans le KNN occupation)\n",
    "- workclass : private - public - independent\n",
    "- marital status et relationship : voir comment on regroupe, lequel on supprime (a priori marié - séparé - never married)\n",
    "- capital loss ? \n"
   ]
  },
  {
   "cell_type": "markdown",
   "metadata": {},
   "source": [
    "à regarder pour modifier le modèle : \n",
    "- max features (auto, à modifier ?)"
   ]
  },
  {
   "cell_type": "code",
   "execution_count": null,
   "metadata": {},
   "outputs": [],
   "source": []
  },
  {
   "cell_type": "markdown",
   "metadata": {},
   "source": [
    "### Modèle de prédiction Random Forest"
   ]
  },
  {
   "cell_type": "code",
   "execution_count": null,
   "metadata": {},
   "outputs": [],
   "source": [
    "from sklearn.ensemble import RandomForestClassifier\n",
    "clf_rf = RandomForestClassifier(max_features='auto') #auto = racine de p"
   ]
  },
  {
   "cell_type": "markdown",
   "metadata": {},
   "source": [
    "Grid Search"
   ]
  },
  {
   "cell_type": "code",
   "execution_count": null,
   "metadata": {},
   "outputs": [],
   "source": [
    "from sklearn.model_selection import GridSearchCV"
   ]
  },
  {
   "cell_type": "code",
   "execution_count": null,
   "metadata": {},
   "outputs": [],
   "source": [
    "n_estimators = [i for i in range(20,301,20)]\n",
    "parameters = {'n_estimators': n_estimators}\n",
    "clf_gs_rf = GridSearchCV(clf_rf, parameters, cv=5, scoring='accuracy')\n",
    "clf_gs_rf.fit(X, Y)"
   ]
  },
  {
   "cell_type": "code",
   "execution_count": null,
   "metadata": {},
   "outputs": [],
   "source": [
    "clf_gs_rf.cv_results_"
   ]
  },
  {
   "cell_type": "code",
   "execution_count": null,
   "metadata": {},
   "outputs": [],
   "source": [
    "clf_rf = RandomForestClassifier(n_estimators=120, max_features='auto')\n",
    "scores = cross_val_score(clf_rf, X, Y, cv=5, scoring='accuracy')\n",
    "np.mean(scores), np.std(scores)"
   ]
  },
  {
   "cell_type": "code",
   "execution_count": null,
   "metadata": {},
   "outputs": [],
   "source": [
    "scores = cross_val_score(clf_rf, X, Y, cv=5, scoring='f1')\n",
    "np.mean(scores), np.std(scores)"
   ]
  },
  {
   "cell_type": "code",
   "execution_count": 2,
   "metadata": {},
   "outputs": [
    {
     "ename": "NameError",
     "evalue": "name 'clf_rf' is not defined",
     "output_type": "error",
     "traceback": [
      "\u001b[1;31m---------------------------------------------------------------------------\u001b[0m",
      "\u001b[1;31mNameError\u001b[0m                                 Traceback (most recent call last)",
      "\u001b[1;32m<ipython-input-2-caf17241aee0>\u001b[0m in \u001b[0;36m<module>\u001b[1;34m\u001b[0m\n\u001b[0;32m      1\u001b[0m \u001b[1;31m# permet de calculer l'importance de chaque feature : à regarder de près\u001b[0m\u001b[1;33m\u001b[0m\u001b[1;33m\u001b[0m\u001b[1;33m\u001b[0m\u001b[0m\n\u001b[1;32m----> 2\u001b[1;33m \u001b[0mclf_rf\u001b[0m\u001b[1;33m.\u001b[0m\u001b[0mfit\u001b[0m\u001b[1;33m(\u001b[0m\u001b[0mX\u001b[0m\u001b[1;33m,\u001b[0m\u001b[0mY\u001b[0m\u001b[1;33m)\u001b[0m\u001b[1;33m\u001b[0m\u001b[1;33m\u001b[0m\u001b[0m\n\u001b[0m\u001b[0;32m      3\u001b[0m \u001b[0mclf_rf\u001b[0m\u001b[1;33m.\u001b[0m\u001b[0mfeature_importances_\u001b[0m\u001b[1;33m\u001b[0m\u001b[1;33m\u001b[0m\u001b[0m\n",
      "\u001b[1;31mNameError\u001b[0m: name 'clf_rf' is not defined"
     ]
    }
   ],
   "source": [
    "# permet de calculer l'importance de chaque feature : à regarder de près\n",
    "clf_rf.fit(X,Y)\n",
    "clf_rf.feature_importances_"
   ]
  },
  {
   "cell_type": "code",
   "execution_count": null,
   "metadata": {},
   "outputs": [],
   "source": [
    "X.head()"
   ]
  }
 ],
 "metadata": {
  "kernelspec": {
   "display_name": "Python 3",
   "language": "python",
   "name": "python3"
  },
  "language_info": {
   "codemirror_mode": {
    "name": "ipython",
    "version": 3
   },
   "file_extension": ".py",
   "mimetype": "text/x-python",
   "name": "python",
   "nbconvert_exporter": "python",
   "pygments_lexer": "ipython3",
   "version": "3.7.2"
  }
 },
 "nbformat": 4,
 "nbformat_minor": 2
}
