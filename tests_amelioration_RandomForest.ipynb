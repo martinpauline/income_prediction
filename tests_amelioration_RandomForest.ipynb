{
 "cells": [
  {
   "cell_type": "code",
   "execution_count": 1,
   "metadata": {},
   "outputs": [],
   "source": [
    "# Import modules\n",
    "import warnings\n",
    "warnings.filterwarnings('ignore')\n",
    "import numpy as np\n",
    "import pandas as pd\n",
    "import seaborn as sns\n",
    "import matplotlib.pyplot as plt\n",
    "# Enrichissement des données\n",
    "from sklearn.impute import SimpleImputer\n",
    "# KNN\n",
    "from sklearn.neighbors import KNeighborsClassifier\n",
    "# Grid search et calcul de scores\n",
    "from sklearn.model_selection import GridSearchCV\n",
    "from sklearn.model_selection import cross_val_score\n",
    "# Random Forest\n",
    "from sklearn.ensemble import RandomForestClassifier\n",
    "\n",
    "%matplotlib inline"
   ]
  },
  {
   "cell_type": "markdown",
   "metadata": {},
   "source": [
    "### Preprocessing"
   ]
  },
  {
   "cell_type": "markdown",
   "metadata": {},
   "source": [
    "Chargement des données et premiers traitements actés"
   ]
  },
  {
   "cell_type": "code",
   "execution_count": 2,
   "metadata": {},
   "outputs": [],
   "source": [
    "data = pd.read_csv(\"data/adult.csv\", na_values='?')"
   ]
  },
  {
   "cell_type": "code",
   "execution_count": 3,
   "metadata": {},
   "outputs": [],
   "source": [
    "def remove_columns(data):\n",
    "    \"\"\"Remove useless columns\"\"\"\n",
    "    data.drop('education', axis=1, inplace=True)\n",
    "    data.drop('relationship', axis=1, inplace=True)\n",
    "    return\n",
    "\n",
    "remove_columns(data)"
   ]
  },
  {
   "cell_type": "code",
   "execution_count": 4,
   "metadata": {},
   "outputs": [],
   "source": [
    "def complete_except_occupation(data):\n",
    "    \"\"\" Fill missing data in some columns with a SimpleImputer\"\"\"\n",
    "    imp = SimpleImputer(missing_values=np.nan, strategy='most_frequent')\n",
    "    data['workclass'] = imp.fit_transform(data[['workclass']])\n",
    "    data['native.country'] = imp.fit_transform(data[['native.country']])\n",
    "    return\n",
    "\n",
    "complete_except_occupation(data)"
   ]
  },
  {
   "cell_type": "code",
   "execution_count": 5,
   "metadata": {},
   "outputs": [],
   "source": [
    "def transform(data):\n",
    "    \"\"\"Transform multi categorical data into binary data (to properly apply prediction models)\"\"\"\n",
    "    data['native.country'] = [1 if x == 'United-States' else 0 for x in data['native.country']]\n",
    "    # data['workclass'] = [1 if x == 'Private' else 0 for x in data['workclass']]\n",
    "    data['race'] = [1 if x == 'White' else 0 for x in data['race']]\n",
    "    data['sex'] = [1 if x == 'Male' else 0 for x in data['sex']]\n",
    "    data['income'] = [0 if x == '<=50K' else 1 for x in data['income']]\n",
    "    # marital_stat = {'Divorced':'Separated', 'Separated':'Separated', 'Widowed':'Separated',\n",
    "                    #'Married-AF-spouse':'Married', 'Married-civ-spouse':'Married', 'Married-spouse-absent':'Married',\n",
    "                    #'Never-married':'Never married'}\n",
    "    marital_stat = {'Divorced':'Single', 'Separated':'Single', 'Widowed':'Single','Never-married':'Single',\n",
    "                    'Married-AF-spouse':'Married', 'Married-civ-spouse':'Married', 'Married-spouse-absent':'Married'}\n",
    "    data['marital.status'] = [marital_stat[x] for x in data['marital.status']]\n",
    "    workclass = {'Private':'Private',\n",
    "                 'Self-emp-not-inc':'Self', 'Self-emp-inc':'Self', 'Never-worked':'Self', 'Without-pay':'Self',\n",
    "                 'Federal-gov':'Public', 'Local-gov':'Public', 'State-gov':'Public'}\n",
    "    data['workclass'] = [workclass[x] for x in data['workclass']]\n",
    "    \n",
    "transform(data)"
   ]
  },
  {
   "cell_type": "code",
   "execution_count": 6,
   "metadata": {},
   "outputs": [
    {
     "data": {
      "text/html": [
       "<div>\n",
       "<style scoped>\n",
       "    .dataframe tbody tr th:only-of-type {\n",
       "        vertical-align: middle;\n",
       "    }\n",
       "\n",
       "    .dataframe tbody tr th {\n",
       "        vertical-align: top;\n",
       "    }\n",
       "\n",
       "    .dataframe thead th {\n",
       "        text-align: right;\n",
       "    }\n",
       "</style>\n",
       "<table border=\"1\" class=\"dataframe\">\n",
       "  <thead>\n",
       "    <tr style=\"text-align: right;\">\n",
       "      <th></th>\n",
       "      <th>age</th>\n",
       "      <th>workclass</th>\n",
       "      <th>fnlwgt</th>\n",
       "      <th>education.num</th>\n",
       "      <th>marital.status</th>\n",
       "      <th>occupation</th>\n",
       "      <th>race</th>\n",
       "      <th>sex</th>\n",
       "      <th>capital.gain</th>\n",
       "      <th>capital.loss</th>\n",
       "      <th>hours.per.week</th>\n",
       "      <th>native.country</th>\n",
       "      <th>income</th>\n",
       "    </tr>\n",
       "  </thead>\n",
       "  <tbody>\n",
       "    <tr>\n",
       "      <th>0</th>\n",
       "      <td>90</td>\n",
       "      <td>Private</td>\n",
       "      <td>77053</td>\n",
       "      <td>9</td>\n",
       "      <td>Single</td>\n",
       "      <td>NaN</td>\n",
       "      <td>1</td>\n",
       "      <td>0</td>\n",
       "      <td>0</td>\n",
       "      <td>4356</td>\n",
       "      <td>40</td>\n",
       "      <td>1</td>\n",
       "      <td>0</td>\n",
       "    </tr>\n",
       "    <tr>\n",
       "      <th>1</th>\n",
       "      <td>82</td>\n",
       "      <td>Private</td>\n",
       "      <td>132870</td>\n",
       "      <td>9</td>\n",
       "      <td>Single</td>\n",
       "      <td>Exec-managerial</td>\n",
       "      <td>1</td>\n",
       "      <td>0</td>\n",
       "      <td>0</td>\n",
       "      <td>4356</td>\n",
       "      <td>18</td>\n",
       "      <td>1</td>\n",
       "      <td>0</td>\n",
       "    </tr>\n",
       "    <tr>\n",
       "      <th>2</th>\n",
       "      <td>66</td>\n",
       "      <td>Private</td>\n",
       "      <td>186061</td>\n",
       "      <td>10</td>\n",
       "      <td>Single</td>\n",
       "      <td>NaN</td>\n",
       "      <td>0</td>\n",
       "      <td>0</td>\n",
       "      <td>0</td>\n",
       "      <td>4356</td>\n",
       "      <td>40</td>\n",
       "      <td>1</td>\n",
       "      <td>0</td>\n",
       "    </tr>\n",
       "    <tr>\n",
       "      <th>3</th>\n",
       "      <td>54</td>\n",
       "      <td>Private</td>\n",
       "      <td>140359</td>\n",
       "      <td>4</td>\n",
       "      <td>Single</td>\n",
       "      <td>Machine-op-inspct</td>\n",
       "      <td>1</td>\n",
       "      <td>0</td>\n",
       "      <td>0</td>\n",
       "      <td>3900</td>\n",
       "      <td>40</td>\n",
       "      <td>1</td>\n",
       "      <td>0</td>\n",
       "    </tr>\n",
       "    <tr>\n",
       "      <th>4</th>\n",
       "      <td>41</td>\n",
       "      <td>Private</td>\n",
       "      <td>264663</td>\n",
       "      <td>10</td>\n",
       "      <td>Single</td>\n",
       "      <td>Prof-specialty</td>\n",
       "      <td>1</td>\n",
       "      <td>0</td>\n",
       "      <td>0</td>\n",
       "      <td>3900</td>\n",
       "      <td>40</td>\n",
       "      <td>1</td>\n",
       "      <td>0</td>\n",
       "    </tr>\n",
       "  </tbody>\n",
       "</table>\n",
       "</div>"
      ],
      "text/plain": [
       "   age workclass  fnlwgt  education.num marital.status         occupation  \\\n",
       "0   90   Private   77053              9         Single                NaN   \n",
       "1   82   Private  132870              9         Single    Exec-managerial   \n",
       "2   66   Private  186061             10         Single                NaN   \n",
       "3   54   Private  140359              4         Single  Machine-op-inspct   \n",
       "4   41   Private  264663             10         Single     Prof-specialty   \n",
       "\n",
       "   race  sex  capital.gain  capital.loss  hours.per.week  native.country  \\\n",
       "0     1    0             0          4356              40               1   \n",
       "1     1    0             0          4356              18               1   \n",
       "2     0    0             0          4356              40               1   \n",
       "3     1    0             0          3900              40               1   \n",
       "4     1    0             0          3900              40               1   \n",
       "\n",
       "   income  \n",
       "0       0  \n",
       "1       0  \n",
       "2       0  \n",
       "3       0  \n",
       "4       0  "
      ]
     },
     "execution_count": 6,
     "metadata": {},
     "output_type": "execute_result"
    }
   ],
   "source": [
    "data.head()"
   ]
  },
  {
   "cell_type": "code",
   "execution_count": 7,
   "metadata": {},
   "outputs": [],
   "source": [
    "# Attention : ne pas supprimer le champ 'sex' pour la prédiction de 'occupation' ! \n",
    "# Attention : bien supprimer le champ 'fnlwgt' pour la prédiction de 'occupation' ! \n",
    "\n",
    "def complete_occupation(data):\n",
    "    \"\"\"Fill missing data in 'occupation' column with a KNN prediction \"\"\"\n",
    "    df = data.copy()\n",
    "    df.drop('income', axis=1, inplace=True)\n",
    "    if 'fnlwgt' in df.columns:\n",
    "        df.drop('fnlwgt', axis=1, inplace=True)\n",
    "    # Séparation des sets : train et prédiction\n",
    "    train = df.dropna()\n",
    "    prediction = pd.get_dummies(df[df['occupation'].isnull()].drop('occupation', axis=1))\n",
    "    # Prédiction avec un modèle KNN\n",
    "    X = pd.get_dummies(train.drop('occupation', axis=1))\n",
    "    for x in X.columns:\n",
    "        if x not in prediction.columns:\n",
    "            prediction[x]=0\n",
    "    Y = train['occupation']\n",
    "    knn = KNeighborsClassifier(n_neighbors=23)\n",
    "    knn.fit(X,Y)\n",
    "    result = knn.predict(prediction)\n",
    "    # Inscrire les résultats de la prédiction dans le df 'prediction'\n",
    "    prediction['occupation']=[x for x in result]\n",
    "    # Compléter les données manquantes du df initial ('data') grâce aux données prédites ('prediction')\n",
    "    for index in prediction.index:\n",
    "        data.loc[index,'occupation'] = prediction.loc[index,'occupation']\n",
    "    # Calcul du score\n",
    "    scores_accu = cross_val_score(knn, X, Y, cv=5, scoring='accuracy')\n",
    "    print(\"Accuracy du modèle KNN: Moyenne:{}; Ecart-type:{}\".format(np.mean(scores_accu),np.std(scores_accu)))\n",
    "    #scores_f1 = cross_val_score(knn, X, Y, cv=5, scoring='f1')\n",
    "    #print(\"F1-score: Moyenne:{}; Ecart-type:{}\".format(np.mean(scores_f1),np.std(scores_f1)))\n",
    "    # RQ: le calcul du F1 score ne marche pas\n",
    "    return"
   ]
  },
  {
   "cell_type": "code",
   "execution_count": 8,
   "metadata": {},
   "outputs": [
    {
     "name": "stdout",
     "output_type": "stream",
     "text": [
      "Accuracy du modèle KNN: Moyenne:0.28358374272592274; Ecart-type:0.016599860143834518\n"
     ]
    }
   ],
   "source": [
    "complete_occupation(data)"
   ]
  },
  {
   "cell_type": "markdown",
   "metadata": {},
   "source": [
    "### Modèle de prédiction Random Forest"
   ]
  },
  {
   "cell_type": "code",
   "execution_count": 9,
   "metadata": {},
   "outputs": [],
   "source": [
    "# Tests de colonne à supprimer\n",
    "df_test = data.copy()\n",
    "#df_test.drop('sex', axis=1, inplace=True)\n",
    "#df_test.drop('native.country', axis=1, inplace=True)\n",
    "#df_test.drop('race', axis=1, inplace=True)\n",
    "# df_test.drop('workclass', axis=1, inplace=True)"
   ]
  },
  {
   "cell_type": "code",
   "execution_count": 10,
   "metadata": {},
   "outputs": [],
   "source": [
    "X = pd.get_dummies(df_test.drop('income', axis=1))\n",
    "Y = df_test['income']"
   ]
  },
  {
   "cell_type": "code",
   "execution_count": 11,
   "metadata": {},
   "outputs": [
    {
     "data": {
      "text/plain": [
       "28"
      ]
     },
     "execution_count": 11,
     "metadata": {},
     "output_type": "execute_result"
    }
   ],
   "source": [
    "len(X.columns)"
   ]
  },
  {
   "cell_type": "markdown",
   "metadata": {},
   "source": [
    "Grid Search"
   ]
  },
  {
   "cell_type": "code",
   "execution_count": null,
   "metadata": {},
   "outputs": [],
   "source": [
    "clf_rf = RandomForestClassifier(n_estimators=120, max_features=0.1, n_jobs=-1)"
   ]
  },
  {
   "cell_type": "code",
   "execution_count": null,
   "metadata": {},
   "outputs": [],
   "source": [
    "# pour le nombre d'arbres\n",
    "n_estimators = [i for i in range(20,301,20)]\n",
    "parameters = {'n_estimators': n_estimators}\n",
    "clf_gs_rf = GridSearchCV(clf_rf, parameters, cv=5, scoring='accuracy')\n",
    "clf_gs_rf.fit(X, Y)"
   ]
  },
  {
   "cell_type": "code",
   "execution_count": null,
   "metadata": {},
   "outputs": [],
   "source": [
    "# pour max_features\n",
    "# max_features = [i for i in range(1,len(X.columns)-1)]\n",
    "max_features = [2, 3, 4]\n",
    "parameters = {'max_features': max_features}\n",
    "clf_gs_rf = GridSearchCV(clf_rf, parameters, cv=5, scoring='accuracy')\n",
    "clf_gs_rf.fit(X, Y)"
   ]
  },
  {
   "cell_type": "code",
   "execution_count": null,
   "metadata": {},
   "outputs": [],
   "source": [
    "clf_gs_rf.cv_results_"
   ]
  },
  {
   "cell_type": "code",
   "execution_count": null,
   "metadata": {},
   "outputs": [],
   "source": [
    "clf_gs_rf.best_params_"
   ]
  },
  {
   "cell_type": "markdown",
   "metadata": {},
   "source": [
    "Modèle paramétré"
   ]
  },
  {
   "cell_type": "code",
   "execution_count": 12,
   "metadata": {},
   "outputs": [
    {
     "data": {
      "text/plain": [
       "RandomForestClassifier(bootstrap=True, class_weight=None, criterion='gini',\n",
       "            max_depth=None, max_features=0.1, max_leaf_nodes=None,\n",
       "            min_impurity_decrease=0.0, min_impurity_split=None,\n",
       "            min_samples_leaf=1, min_samples_split=2,\n",
       "            min_weight_fraction_leaf=0.0, n_estimators=120, n_jobs=None,\n",
       "            oob_score=False, random_state=None, verbose=0,\n",
       "            warm_start=False)"
      ]
     },
     "execution_count": 12,
     "metadata": {},
     "output_type": "execute_result"
    }
   ],
   "source": [
    "clf_rf = RandomForestClassifier(n_estimators=120, max_features=0.1)\n",
    "clf_rf.fit(X,Y)"
   ]
  },
  {
   "cell_type": "markdown",
   "metadata": {},
   "source": [
    "Importance des features"
   ]
  },
  {
   "cell_type": "code",
   "execution_count": 13,
   "metadata": {},
   "outputs": [],
   "source": [
    "all_features = pd.DataFrame(data=clf_rf.feature_importances_, index=X.columns, columns=['feature_importance'])"
   ]
  },
  {
   "cell_type": "code",
   "execution_count": 14,
   "metadata": {},
   "outputs": [
    {
     "data": {
      "text/html": [
       "<div>\n",
       "<style scoped>\n",
       "    .dataframe tbody tr th:only-of-type {\n",
       "        vertical-align: middle;\n",
       "    }\n",
       "\n",
       "    .dataframe tbody tr th {\n",
       "        vertical-align: top;\n",
       "    }\n",
       "\n",
       "    .dataframe thead th {\n",
       "        text-align: right;\n",
       "    }\n",
       "</style>\n",
       "<table border=\"1\" class=\"dataframe\">\n",
       "  <thead>\n",
       "    <tr style=\"text-align: right;\">\n",
       "      <th></th>\n",
       "      <th>feature_importance</th>\n",
       "    </tr>\n",
       "    <tr>\n",
       "      <th>category</th>\n",
       "      <th></th>\n",
       "    </tr>\n",
       "  </thead>\n",
       "  <tbody>\n",
       "    <tr>\n",
       "      <th>fnlwgt</th>\n",
       "      <td>0.198364</td>\n",
       "    </tr>\n",
       "    <tr>\n",
       "      <th>age</th>\n",
       "      <td>0.181624</td>\n",
       "    </tr>\n",
       "    <tr>\n",
       "      <th>marital.status</th>\n",
       "      <td>0.142410</td>\n",
       "    </tr>\n",
       "    <tr>\n",
       "      <th>education.num</th>\n",
       "      <td>0.109971</td>\n",
       "    </tr>\n",
       "    <tr>\n",
       "      <th>capital.gain</th>\n",
       "      <td>0.099931</td>\n",
       "    </tr>\n",
       "    <tr>\n",
       "      <th>hours.per.week</th>\n",
       "      <td>0.098241</td>\n",
       "    </tr>\n",
       "    <tr>\n",
       "      <th>occupation</th>\n",
       "      <td>0.085902</td>\n",
       "    </tr>\n",
       "    <tr>\n",
       "      <th>capital.loss</th>\n",
       "      <td>0.034359</td>\n",
       "    </tr>\n",
       "    <tr>\n",
       "      <th>sex</th>\n",
       "      <td>0.018120</td>\n",
       "    </tr>\n",
       "    <tr>\n",
       "      <th>workclass</th>\n",
       "      <td>0.015117</td>\n",
       "    </tr>\n",
       "    <tr>\n",
       "      <th>race</th>\n",
       "      <td>0.008703</td>\n",
       "    </tr>\n",
       "    <tr>\n",
       "      <th>native.country</th>\n",
       "      <td>0.007257</td>\n",
       "    </tr>\n",
       "  </tbody>\n",
       "</table>\n",
       "</div>"
      ],
      "text/plain": [
       "                feature_importance\n",
       "category                          \n",
       "fnlwgt                    0.198364\n",
       "age                       0.181624\n",
       "marital.status            0.142410\n",
       "education.num             0.109971\n",
       "capital.gain              0.099931\n",
       "hours.per.week            0.098241\n",
       "occupation                0.085902\n",
       "capital.loss              0.034359\n",
       "sex                       0.018120\n",
       "workclass                 0.015117\n",
       "race                      0.008703\n",
       "native.country            0.007257"
      ]
     },
     "execution_count": 14,
     "metadata": {},
     "output_type": "execute_result"
    }
   ],
   "source": [
    "feature_categories = [all_features.index[i].split('_')[0] for i in range(len(X.columns))]\n",
    "grouped_features = pd.DataFrame(data={'feature_importance':clf_rf.feature_importances_,'category':feature_categories}).groupby('category').sum()\n",
    "grouped_features.sort_values(by='feature_importance', ascending=False)"
   ]
  },
  {
   "cell_type": "markdown",
   "metadata": {},
   "source": [
    "Scores"
   ]
  },
  {
   "cell_type": "code",
   "execution_count": 15,
   "metadata": {},
   "outputs": [
    {
     "data": {
      "text/plain": [
       "(0.8021564883840332, 0.019086340400260512)"
      ]
     },
     "execution_count": 15,
     "metadata": {},
     "output_type": "execute_result"
    }
   ],
   "source": [
    "# Accuracy\n",
    "scores = cross_val_score(clf_rf, X, Y, cv=5, scoring='accuracy')\n",
    "np.mean(scores), np.std(scores)"
   ]
  },
  {
   "cell_type": "code",
   "execution_count": 16,
   "metadata": {},
   "outputs": [
    {
     "data": {
      "text/plain": [
       "(0.5293889320838124, 0.08945724696241929)"
      ]
     },
     "execution_count": 16,
     "metadata": {},
     "output_type": "execute_result"
    }
   ],
   "source": [
    "# F1-score\n",
    "scores = cross_val_score(clf_rf, X, Y, cv=5, scoring='f1')\n",
    "np.mean(scores), np.std(scores)"
   ]
  },
  {
   "cell_type": "code",
   "execution_count": null,
   "metadata": {},
   "outputs": [],
   "source": []
  }
 ],
 "metadata": {
  "kernelspec": {
   "display_name": "Python 3",
   "language": "python",
   "name": "python3"
  },
  "language_info": {
   "codemirror_mode": {
    "name": "ipython",
    "version": 3
   },
   "file_extension": ".py",
   "mimetype": "text/x-python",
   "name": "python",
   "nbconvert_exporter": "python",
   "pygments_lexer": "ipython3",
   "version": "3.7.2"
  }
 },
 "nbformat": 4,
 "nbformat_minor": 2
}
