{
 "cells": [
  {
   "cell_type": "code",
   "execution_count": 1,
   "metadata": {},
   "outputs": [],
   "source": [
    "# Import modules\n",
    "import numpy as np\n",
    "import pandas as pd\n",
    "import seaborn as sns\n",
    "import matplotlib.pyplot as plt\n",
    "%matplotlib inline\n",
    "\n",
    "import warnings\n",
    "warnings.filterwarnings('ignore')\n",
    "\n",
    "from sklearn.impute import SimpleImputer\n",
    "from sklearn.neighbors import KNeighborsClassifier\n",
    "from sklearn.linear_model import LogisticRegression\n",
    "from sklearn.ensemble import RandomForestClassifier\n",
    "from xgboost import XGBClassifier\n",
    "from sklearn.model_selection import cross_val_score\n",
    "from sklearn.model_selection import GridSearchCV\n",
    "from sklearn.feature_selection import SelectKBest, chi2"
   ]
  },
  {
   "cell_type": "markdown",
   "metadata": {},
   "source": [
    "# Import des données"
   ]
  },
  {
   "cell_type": "code",
   "execution_count": 2,
   "metadata": {},
   "outputs": [],
   "source": [
    "# Import data\n",
    "df = pd.read_csv('data/adult.csv')"
   ]
  },
  {
   "cell_type": "code",
   "execution_count": 3,
   "metadata": {},
   "outputs": [
    {
     "data": {
      "text/html": [
       "<div>\n",
       "<style scoped>\n",
       "    .dataframe tbody tr th:only-of-type {\n",
       "        vertical-align: middle;\n",
       "    }\n",
       "\n",
       "    .dataframe tbody tr th {\n",
       "        vertical-align: top;\n",
       "    }\n",
       "\n",
       "    .dataframe thead th {\n",
       "        text-align: right;\n",
       "    }\n",
       "</style>\n",
       "<table border=\"1\" class=\"dataframe\">\n",
       "  <thead>\n",
       "    <tr style=\"text-align: right;\">\n",
       "      <th></th>\n",
       "      <th>age</th>\n",
       "      <th>workclass</th>\n",
       "      <th>fnlwgt</th>\n",
       "      <th>education</th>\n",
       "      <th>education.num</th>\n",
       "      <th>marital.status</th>\n",
       "      <th>occupation</th>\n",
       "      <th>relationship</th>\n",
       "      <th>race</th>\n",
       "      <th>sex</th>\n",
       "      <th>capital.gain</th>\n",
       "      <th>capital.loss</th>\n",
       "      <th>hours.per.week</th>\n",
       "      <th>native.country</th>\n",
       "      <th>income</th>\n",
       "    </tr>\n",
       "  </thead>\n",
       "  <tbody>\n",
       "    <tr>\n",
       "      <th>0</th>\n",
       "      <td>90</td>\n",
       "      <td>?</td>\n",
       "      <td>77053</td>\n",
       "      <td>HS-grad</td>\n",
       "      <td>9</td>\n",
       "      <td>Widowed</td>\n",
       "      <td>?</td>\n",
       "      <td>Not-in-family</td>\n",
       "      <td>White</td>\n",
       "      <td>Female</td>\n",
       "      <td>0</td>\n",
       "      <td>4356</td>\n",
       "      <td>40</td>\n",
       "      <td>United-States</td>\n",
       "      <td>&lt;=50K</td>\n",
       "    </tr>\n",
       "    <tr>\n",
       "      <th>1</th>\n",
       "      <td>82</td>\n",
       "      <td>Private</td>\n",
       "      <td>132870</td>\n",
       "      <td>HS-grad</td>\n",
       "      <td>9</td>\n",
       "      <td>Widowed</td>\n",
       "      <td>Exec-managerial</td>\n",
       "      <td>Not-in-family</td>\n",
       "      <td>White</td>\n",
       "      <td>Female</td>\n",
       "      <td>0</td>\n",
       "      <td>4356</td>\n",
       "      <td>18</td>\n",
       "      <td>United-States</td>\n",
       "      <td>&lt;=50K</td>\n",
       "    </tr>\n",
       "    <tr>\n",
       "      <th>2</th>\n",
       "      <td>66</td>\n",
       "      <td>?</td>\n",
       "      <td>186061</td>\n",
       "      <td>Some-college</td>\n",
       "      <td>10</td>\n",
       "      <td>Widowed</td>\n",
       "      <td>?</td>\n",
       "      <td>Unmarried</td>\n",
       "      <td>Black</td>\n",
       "      <td>Female</td>\n",
       "      <td>0</td>\n",
       "      <td>4356</td>\n",
       "      <td>40</td>\n",
       "      <td>United-States</td>\n",
       "      <td>&lt;=50K</td>\n",
       "    </tr>\n",
       "    <tr>\n",
       "      <th>3</th>\n",
       "      <td>54</td>\n",
       "      <td>Private</td>\n",
       "      <td>140359</td>\n",
       "      <td>7th-8th</td>\n",
       "      <td>4</td>\n",
       "      <td>Divorced</td>\n",
       "      <td>Machine-op-inspct</td>\n",
       "      <td>Unmarried</td>\n",
       "      <td>White</td>\n",
       "      <td>Female</td>\n",
       "      <td>0</td>\n",
       "      <td>3900</td>\n",
       "      <td>40</td>\n",
       "      <td>United-States</td>\n",
       "      <td>&lt;=50K</td>\n",
       "    </tr>\n",
       "    <tr>\n",
       "      <th>4</th>\n",
       "      <td>41</td>\n",
       "      <td>Private</td>\n",
       "      <td>264663</td>\n",
       "      <td>Some-college</td>\n",
       "      <td>10</td>\n",
       "      <td>Separated</td>\n",
       "      <td>Prof-specialty</td>\n",
       "      <td>Own-child</td>\n",
       "      <td>White</td>\n",
       "      <td>Female</td>\n",
       "      <td>0</td>\n",
       "      <td>3900</td>\n",
       "      <td>40</td>\n",
       "      <td>United-States</td>\n",
       "      <td>&lt;=50K</td>\n",
       "    </tr>\n",
       "  </tbody>\n",
       "</table>\n",
       "</div>"
      ],
      "text/plain": [
       "   age workclass  fnlwgt     education  education.num marital.status  \\\n",
       "0   90         ?   77053       HS-grad              9        Widowed   \n",
       "1   82   Private  132870       HS-grad              9        Widowed   \n",
       "2   66         ?  186061  Some-college             10        Widowed   \n",
       "3   54   Private  140359       7th-8th              4       Divorced   \n",
       "4   41   Private  264663  Some-college             10      Separated   \n",
       "\n",
       "          occupation   relationship   race     sex  capital.gain  \\\n",
       "0                  ?  Not-in-family  White  Female             0   \n",
       "1    Exec-managerial  Not-in-family  White  Female             0   \n",
       "2                  ?      Unmarried  Black  Female             0   \n",
       "3  Machine-op-inspct      Unmarried  White  Female             0   \n",
       "4     Prof-specialty      Own-child  White  Female             0   \n",
       "\n",
       "   capital.loss  hours.per.week native.country income  \n",
       "0          4356              40  United-States  <=50K  \n",
       "1          4356              18  United-States  <=50K  \n",
       "2          4356              40  United-States  <=50K  \n",
       "3          3900              40  United-States  <=50K  \n",
       "4          3900              40  United-States  <=50K  "
      ]
     },
     "execution_count": 3,
     "metadata": {},
     "output_type": "execute_result"
    }
   ],
   "source": [
    "df.head()"
   ]
  },
  {
   "cell_type": "code",
   "execution_count": 4,
   "metadata": {},
   "outputs": [
    {
     "name": "stdout",
     "output_type": "stream",
     "text": [
      "<class 'pandas.core.frame.DataFrame'>\n",
      "RangeIndex: 32561 entries, 0 to 32560\n",
      "Data columns (total 15 columns):\n",
      "age               32561 non-null int64\n",
      "workclass         32561 non-null object\n",
      "fnlwgt            32561 non-null int64\n",
      "education         32561 non-null object\n",
      "education.num     32561 non-null int64\n",
      "marital.status    32561 non-null object\n",
      "occupation        32561 non-null object\n",
      "relationship      32561 non-null object\n",
      "race              32561 non-null object\n",
      "sex               32561 non-null object\n",
      "capital.gain      32561 non-null int64\n",
      "capital.loss      32561 non-null int64\n",
      "hours.per.week    32561 non-null int64\n",
      "native.country    32561 non-null object\n",
      "income            32561 non-null object\n",
      "dtypes: int64(6), object(9)\n",
      "memory usage: 3.7+ MB\n"
     ]
    }
   ],
   "source": [
    "df.info()\n",
    "# Aucune valeur indiquée comme nulle a priori"
   ]
  },
  {
   "cell_type": "code",
   "execution_count": 5,
   "metadata": {},
   "outputs": [],
   "source": [
    "# les NaN sont sous format '?'\n",
    "df = pd.read_csv('data/adult.csv', na_values='?')"
   ]
  },
  {
   "cell_type": "code",
   "execution_count": 6,
   "metadata": {},
   "outputs": [
    {
     "data": {
      "text/html": [
       "<div>\n",
       "<style scoped>\n",
       "    .dataframe tbody tr th:only-of-type {\n",
       "        vertical-align: middle;\n",
       "    }\n",
       "\n",
       "    .dataframe tbody tr th {\n",
       "        vertical-align: top;\n",
       "    }\n",
       "\n",
       "    .dataframe thead th {\n",
       "        text-align: right;\n",
       "    }\n",
       "</style>\n",
       "<table border=\"1\" class=\"dataframe\">\n",
       "  <thead>\n",
       "    <tr style=\"text-align: right;\">\n",
       "      <th></th>\n",
       "      <th>age</th>\n",
       "      <th>workclass</th>\n",
       "      <th>fnlwgt</th>\n",
       "      <th>education</th>\n",
       "      <th>education.num</th>\n",
       "      <th>marital.status</th>\n",
       "      <th>occupation</th>\n",
       "      <th>relationship</th>\n",
       "      <th>race</th>\n",
       "      <th>sex</th>\n",
       "      <th>capital.gain</th>\n",
       "      <th>capital.loss</th>\n",
       "      <th>hours.per.week</th>\n",
       "      <th>native.country</th>\n",
       "      <th>income</th>\n",
       "    </tr>\n",
       "  </thead>\n",
       "  <tbody>\n",
       "    <tr>\n",
       "      <th>0</th>\n",
       "      <td>90</td>\n",
       "      <td>NaN</td>\n",
       "      <td>77053</td>\n",
       "      <td>HS-grad</td>\n",
       "      <td>9</td>\n",
       "      <td>Widowed</td>\n",
       "      <td>NaN</td>\n",
       "      <td>Not-in-family</td>\n",
       "      <td>White</td>\n",
       "      <td>Female</td>\n",
       "      <td>0</td>\n",
       "      <td>4356</td>\n",
       "      <td>40</td>\n",
       "      <td>United-States</td>\n",
       "      <td>&lt;=50K</td>\n",
       "    </tr>\n",
       "    <tr>\n",
       "      <th>1</th>\n",
       "      <td>82</td>\n",
       "      <td>Private</td>\n",
       "      <td>132870</td>\n",
       "      <td>HS-grad</td>\n",
       "      <td>9</td>\n",
       "      <td>Widowed</td>\n",
       "      <td>Exec-managerial</td>\n",
       "      <td>Not-in-family</td>\n",
       "      <td>White</td>\n",
       "      <td>Female</td>\n",
       "      <td>0</td>\n",
       "      <td>4356</td>\n",
       "      <td>18</td>\n",
       "      <td>United-States</td>\n",
       "      <td>&lt;=50K</td>\n",
       "    </tr>\n",
       "    <tr>\n",
       "      <th>2</th>\n",
       "      <td>66</td>\n",
       "      <td>NaN</td>\n",
       "      <td>186061</td>\n",
       "      <td>Some-college</td>\n",
       "      <td>10</td>\n",
       "      <td>Widowed</td>\n",
       "      <td>NaN</td>\n",
       "      <td>Unmarried</td>\n",
       "      <td>Black</td>\n",
       "      <td>Female</td>\n",
       "      <td>0</td>\n",
       "      <td>4356</td>\n",
       "      <td>40</td>\n",
       "      <td>United-States</td>\n",
       "      <td>&lt;=50K</td>\n",
       "    </tr>\n",
       "    <tr>\n",
       "      <th>3</th>\n",
       "      <td>54</td>\n",
       "      <td>Private</td>\n",
       "      <td>140359</td>\n",
       "      <td>7th-8th</td>\n",
       "      <td>4</td>\n",
       "      <td>Divorced</td>\n",
       "      <td>Machine-op-inspct</td>\n",
       "      <td>Unmarried</td>\n",
       "      <td>White</td>\n",
       "      <td>Female</td>\n",
       "      <td>0</td>\n",
       "      <td>3900</td>\n",
       "      <td>40</td>\n",
       "      <td>United-States</td>\n",
       "      <td>&lt;=50K</td>\n",
       "    </tr>\n",
       "    <tr>\n",
       "      <th>4</th>\n",
       "      <td>41</td>\n",
       "      <td>Private</td>\n",
       "      <td>264663</td>\n",
       "      <td>Some-college</td>\n",
       "      <td>10</td>\n",
       "      <td>Separated</td>\n",
       "      <td>Prof-specialty</td>\n",
       "      <td>Own-child</td>\n",
       "      <td>White</td>\n",
       "      <td>Female</td>\n",
       "      <td>0</td>\n",
       "      <td>3900</td>\n",
       "      <td>40</td>\n",
       "      <td>United-States</td>\n",
       "      <td>&lt;=50K</td>\n",
       "    </tr>\n",
       "  </tbody>\n",
       "</table>\n",
       "</div>"
      ],
      "text/plain": [
       "   age workclass  fnlwgt     education  education.num marital.status  \\\n",
       "0   90       NaN   77053       HS-grad              9        Widowed   \n",
       "1   82   Private  132870       HS-grad              9        Widowed   \n",
       "2   66       NaN  186061  Some-college             10        Widowed   \n",
       "3   54   Private  140359       7th-8th              4       Divorced   \n",
       "4   41   Private  264663  Some-college             10      Separated   \n",
       "\n",
       "          occupation   relationship   race     sex  capital.gain  \\\n",
       "0                NaN  Not-in-family  White  Female             0   \n",
       "1    Exec-managerial  Not-in-family  White  Female             0   \n",
       "2                NaN      Unmarried  Black  Female             0   \n",
       "3  Machine-op-inspct      Unmarried  White  Female             0   \n",
       "4     Prof-specialty      Own-child  White  Female             0   \n",
       "\n",
       "   capital.loss  hours.per.week native.country income  \n",
       "0          4356              40  United-States  <=50K  \n",
       "1          4356              18  United-States  <=50K  \n",
       "2          4356              40  United-States  <=50K  \n",
       "3          3900              40  United-States  <=50K  \n",
       "4          3900              40  United-States  <=50K  "
      ]
     },
     "execution_count": 6,
     "metadata": {},
     "output_type": "execute_result"
    }
   ],
   "source": [
    "df.head()"
   ]
  },
  {
   "cell_type": "code",
   "execution_count": 7,
   "metadata": {},
   "outputs": [
    {
     "name": "stdout",
     "output_type": "stream",
     "text": [
      "<class 'pandas.core.frame.DataFrame'>\n",
      "RangeIndex: 32561 entries, 0 to 32560\n",
      "Data columns (total 15 columns):\n",
      "age               32561 non-null int64\n",
      "workclass         30725 non-null object\n",
      "fnlwgt            32561 non-null int64\n",
      "education         32561 non-null object\n",
      "education.num     32561 non-null int64\n",
      "marital.status    32561 non-null object\n",
      "occupation        30718 non-null object\n",
      "relationship      32561 non-null object\n",
      "race              32561 non-null object\n",
      "sex               32561 non-null object\n",
      "capital.gain      32561 non-null int64\n",
      "capital.loss      32561 non-null int64\n",
      "hours.per.week    32561 non-null int64\n",
      "native.country    31978 non-null object\n",
      "income            32561 non-null object\n",
      "dtypes: int64(6), object(9)\n",
      "memory usage: 3.7+ MB\n"
     ]
    }
   ],
   "source": [
    "df.info()"
   ]
  },
  {
   "cell_type": "code",
   "execution_count": 8,
   "metadata": {},
   "outputs": [],
   "source": [
    "# Shuffle des lignes, afin d'obtenir un ordre aléatoire\n",
    "df = df.sample(frac=1, random_state=0)"
   ]
  },
  {
   "cell_type": "code",
   "execution_count": 9,
   "metadata": {},
   "outputs": [
    {
     "data": {
      "text/plain": [
       "<=50K    24720\n",
       ">50K      7841\n",
       "Name: income, dtype: int64"
      ]
     },
     "execution_count": 9,
     "metadata": {},
     "output_type": "execute_result"
    }
   ],
   "source": [
    "df['income'].value_counts()\n",
    "# On remarque que la répartition est inégale : environ 25% du dataset >50K"
   ]
  },
  {
   "cell_type": "markdown",
   "metadata": {},
   "source": [
    "# Preprocessing"
   ]
  },
  {
   "cell_type": "markdown",
   "metadata": {},
   "source": [
    "## education & education.num"
   ]
  },
  {
   "cell_type": "code",
   "execution_count": 10,
   "metadata": {},
   "outputs": [
    {
     "data": {
      "text/plain": [
       "education.num\n",
       "1     1\n",
       "2     1\n",
       "3     1\n",
       "4     1\n",
       "5     1\n",
       "6     1\n",
       "7     1\n",
       "8     1\n",
       "9     1\n",
       "10    1\n",
       "11    1\n",
       "12    1\n",
       "13    1\n",
       "14    1\n",
       "15    1\n",
       "16    1\n",
       "Name: education, dtype: int64"
      ]
     },
     "execution_count": 10,
     "metadata": {},
     "output_type": "execute_result"
    }
   ],
   "source": [
    "# On vérifie que une valeur de education.num correspond bien à un unique niveau d'études\n",
    "df.groupby('education.num').education.nunique()"
   ]
  },
  {
   "cell_type": "code",
   "execution_count": 11,
   "metadata": {},
   "outputs": [
    {
     "data": {
      "text/plain": [
       "education\n",
       "Preschool        1\n",
       "1st-4th          2\n",
       "5th-6th          3\n",
       "7th-8th          4\n",
       "9th              5\n",
       "10th             6\n",
       "11th             7\n",
       "12th             8\n",
       "HS-grad          9\n",
       "Some-college    10\n",
       "Assoc-voc       11\n",
       "Assoc-acdm      12\n",
       "Bachelors       13\n",
       "Masters         14\n",
       "Prof-school     15\n",
       "Doctorate       16\n",
       "Name: education.num, dtype: int64"
      ]
     },
     "execution_count": 11,
     "metadata": {},
     "output_type": "execute_result"
    }
   ],
   "source": [
    "# On vérifie que les valeurs de education.num traduisent une relation d'ordre dans le niveau d'études\n",
    "df.groupby('education')['education.num'].mean().sort_values()\n",
    "# Conclusion : on garde la caractère numérique de education.num car cela traduit une relation d'ordre dans le niveau d'études\n",
    "# On peut ainsi supprimer la colonne education qui n'est que répétition de education.num"
   ]
  },
  {
   "cell_type": "code",
   "execution_count": 12,
   "metadata": {},
   "outputs": [],
   "source": [
    "df = df.drop('education', axis=1)"
   ]
  },
  {
   "cell_type": "markdown",
   "metadata": {},
   "source": [
    "## fnlwgt"
   ]
  },
  {
   "cell_type": "code",
   "execution_count": 13,
   "metadata": {
    "scrolled": true
   },
   "outputs": [
    {
     "name": "stdout",
     "output_type": "stream",
     "text": [
      "Nombre de valeurs différentes :  21648\n"
     ]
    },
    {
     "data": {
      "image/png": "[encoded data removed]",
      "text/plain": [
       "<Figure size 360x360 with 1 Axes>"
      ]
     },
     "metadata": {
      "needs_background": "light"
     },
     "output_type": "display_data"
    }
   ],
   "source": [
    "sns.catplot(x=\"income\", y=\"fnlwgt\", kind=\"box\", data=df)\n",
    "print('Nombre de valeurs différentes : ', df.fnlwgt.nunique())\n",
    "# Variable non pertinente pour notre problème : même distribution et beaucoup de valeurs distinctes"
   ]
  },
  {
   "cell_type": "code",
   "execution_count": 14,
   "metadata": {},
   "outputs": [],
   "source": [
    "df = df.drop('fnlwgt', axis=1)"
   ]
  },
  {
   "cell_type": "markdown",
   "metadata": {},
   "source": [
    "## race"
   ]
  },
  {
   "cell_type": "code",
   "execution_count": 15,
   "metadata": {},
   "outputs": [
    {
     "data": {
      "text/plain": [
       "<seaborn.axisgrid.FacetGrid at 0x9f4f300f0>"
      ]
     },
     "execution_count": 15,
     "metadata": {},
     "output_type": "execute_result"
    },
    {
     "data": {
      "image/png": "[encoded data removed]",
      "text/plain": [
       "<Figure size 360x360 with 1 Axes>"
      ]
     },
     "metadata": {
      "needs_background": "light"
     },
     "output_type": "display_data"
    }
   ],
   "source": [
    "g = sns.catplot(x=\"race\", kind=\"count\",palette=\"ch:.25\", data=df) \n",
    "g.set_xticklabels(rotation=20)\n",
    "g\n",
    "# La catégorie \"White\" est très prédominante."
   ]
  },
  {
   "cell_type": "code",
   "execution_count": 16,
   "metadata": {},
   "outputs": [],
   "source": [
    "# On regroupe toutes les catégories différentes de \"White\" sous le libellé \"Other\"\n",
    "df['race'] = ['White' if x == 'White' else 'Other' for x in df['race']]"
   ]
  },
  {
   "cell_type": "code",
   "execution_count": 17,
   "metadata": {},
   "outputs": [
    {
     "data": {
      "text/plain": [
       "race\n",
       "Other     4745\n",
       "White    27816\n",
       "Name: race, dtype: int64"
      ]
     },
     "execution_count": 17,
     "metadata": {},
     "output_type": "execute_result"
    }
   ],
   "source": [
    "df.groupby('race').race.count()"
   ]
  },
  {
   "cell_type": "markdown",
   "metadata": {},
   "source": [
    "# native.country"
   ]
  },
  {
   "cell_type": "code",
   "execution_count": 18,
   "metadata": {},
   "outputs": [
    {
     "data": {
      "text/plain": [
       "<seaborn.axisgrid.FacetGrid at 0x9f4f30278>"
      ]
     },
     "execution_count": 18,
     "metadata": {},
     "output_type": "execute_result"
    },
    {
     "data": {
      "image/png": "[encoded data removed]",
      "text/plain": [
       "<Figure size 360x360 with 1 Axes>"
      ]
     },
     "metadata": {
      "needs_background": "light"
     },
     "output_type": "display_data"
    }
   ],
   "source": [
    "g = sns.catplot(x=\"native.country\", kind=\"count\", data=df)\n",
    "g.set_xticklabels(rotation=90)\n",
    "g\n",
    "# Graphe peu lisible mais on voit clairement que la grosse majorité des personnes ont les USA pour pays d'origine."
   ]
  },
  {
   "cell_type": "code",
   "execution_count": 19,
   "metadata": {},
   "outputs": [],
   "source": [
    "# On regroupe toutes les catégories différentes de \"United-States\" sous le libellé \"Other\"\n",
    "# Il faut faire attention aux valeurs manquantes, ne pas les classer dans une catégorie sans le vouloir\n",
    "country_groups = {} #initialisation du dictionnaire\n",
    "for country in set(df['native.country']):\n",
    "    if isinstance(country, str): # si ce n'est pas une valeur nulle\n",
    "        if country == 'United-States':\n",
    "            country_groups[country] = 'United-States'\n",
    "        else:\n",
    "            country_groups[country] = 'Other'\n",
    "new_country = []\n",
    "for x in df['native.country']:\n",
    "    if not isinstance(x, str): # si c'est une valeur nulle\n",
    "        new_country.append(x)\n",
    "    else:\n",
    "        new_country.append(country_groups[x])\n",
    "df['native.country'] = new_country"
   ]
  },
  {
   "cell_type": "code",
   "execution_count": 20,
   "metadata": {},
   "outputs": [
    {
     "data": {
      "text/plain": [
       "native.country\n",
       "Other             2808\n",
       "United-States    29170\n",
       "Name: native.country, dtype: int64"
      ]
     },
     "execution_count": 20,
     "metadata": {},
     "output_type": "execute_result"
    }
   ],
   "source": [
    "df.groupby('native.country')['native.country'].count()"
   ]
  },
  {
   "cell_type": "markdown",
   "metadata": {},
   "source": [
    "## workclass"
   ]
  },
  {
   "cell_type": "code",
   "execution_count": 21,
   "metadata": {},
   "outputs": [
    {
     "data": {
      "text/plain": [
       "<seaborn.axisgrid.FacetGrid at 0x9f4e3cda0>"
      ]
     },
     "execution_count": 21,
     "metadata": {},
     "output_type": "execute_result"
    },
    {
     "data": {
      "image/png": "[encoded data removed]",
      "text/plain": [
       "<Figure size 360x360 with 1 Axes>"
      ]
     },
     "metadata": {
      "needs_background": "light"
     },
     "output_type": "display_data"
    }
   ],
   "source": [
    "g = sns.catplot(x=\"workclass\", kind=\"count\",palette=\"ch:.25\", data=df) \n",
    "g.set_xticklabels(rotation=30)\n",
    "g\n",
    "# On constate que la catégorie 'Private' prédomine.\n",
    "# On remarque 3 types de workclass : le privé ('Private'), le public ('State-gov', 'Federal-gov', 'Local-gov') \n",
    "# et les travailleurs indépendants ('Self-emp-not-inc', 'Self-emp-inc', 'Without-pay', 'Never-worked')"
   ]
  },
  {
   "cell_type": "code",
   "execution_count": 22,
   "metadata": {},
   "outputs": [],
   "source": [
    "# On regroupe les observations selon les 3 groupes définis ci-dessus\n",
    "# Il faut faire attention aux valeurs manquantes\n",
    "workclass_groups = {'Private':'Private', 'Self-emp-not-inc':'Independant', 'Self-emp-inc':'Independant', \n",
    "                   'Without-pay':'Independant', 'Never-worked':'Independant', 'Federal-gov':'Public',\n",
    "                   'Local-gov':'Public', 'State-gov':'Public'}\n",
    "new_workclass = []\n",
    "for x in df['workclass']:\n",
    "    if not isinstance(x, str):\n",
    "        new_workclass.append(x)\n",
    "    else:\n",
    "        new_workclass.append(workclass_groups[x])\n",
    "df['workclass'] = new_workclass"
   ]
  },
  {
   "cell_type": "code",
   "execution_count": 23,
   "metadata": {},
   "outputs": [
    {
     "data": {
      "text/plain": [
       "workclass\n",
       "Independant     3678\n",
       "Private        22696\n",
       "Public          4351\n",
       "Name: workclass, dtype: int64"
      ]
     },
     "execution_count": 23,
     "metadata": {},
     "output_type": "execute_result"
    }
   ],
   "source": [
    "df.groupby('workclass')['workclass'].count()"
   ]
  },
  {
   "cell_type": "code",
   "execution_count": 24,
   "metadata": {},
   "outputs": [
    {
     "data": {
      "text/plain": [
       "<seaborn.axisgrid.FacetGrid at 0x9f5d14b70>"
      ]
     },
     "execution_count": 24,
     "metadata": {},
     "output_type": "execute_result"
    },
    {
     "data": {
      "image/png": "[encoded data removed]",
      "text/plain": [
       "<Figure size 360x360 with 1 Axes>"
      ]
     },
     "metadata": {
      "needs_background": "light"
     },
     "output_type": "display_data"
    }
   ],
   "source": [
    " g = sns.catplot(x=\"workclass\", kind=\"count\",palette=\"ch:.25\", data=df) \n",
    "g.set_xticklabels(rotation=30)\n",
    "g"
   ]
  },
  {
   "cell_type": "markdown",
   "metadata": {},
   "source": [
    "## marital.status"
   ]
  },
  {
   "cell_type": "code",
   "execution_count": 25,
   "metadata": {
    "scrolled": false
   },
   "outputs": [
    {
     "data": {
      "text/plain": [
       "<seaborn.axisgrid.FacetGrid at 0x9f5c43eb8>"
      ]
     },
     "execution_count": 25,
     "metadata": {},
     "output_type": "execute_result"
    },
    {
     "data": {
      "image/png": "[encoded data removed]",
      "text/plain": [
       "<Figure size 360x360 with 1 Axes>"
      ]
     },
     "metadata": {
      "needs_background": "light"
     },
     "output_type": "display_data"
    }
   ],
   "source": [
    "g = sns.catplot(x=\"marital.status\", kind=\"count\",palette=\"ch:.25\", data=df) \n",
    "g.set_xticklabels(rotation=30)\n",
    "g\n",
    "# On remarque qu'on obtient plusieurs catégories, desquelles ne ressortent pas clairement plusieurs groupes. \n",
    "# On va étudier quels regroupements effectuer"
   ]
  },
  {
   "cell_type": "code",
   "execution_count": 26,
   "metadata": {},
   "outputs": [
    {
     "data": {
      "image/png": "[encoded data removed]",
      "text/plain": [
       "<Figure size 432x288 with 2 Axes>"
      ]
     },
     "metadata": {
      "needs_background": "light"
     },
     "output_type": "display_data"
    }
   ],
   "source": [
    "# On cherche à connaître l'influence du status marital sur la variable income\n",
    "table = (df.groupby(['marital.status', 'income']).income.count()/df.groupby('marital.status').income.count()).unstack()\n",
    "ax = sns.heatmap(table, yticklabels=table.index, xticklabels=table.columns)\n",
    "# On observe clairement 2 groupes se dessiner\n",
    "# On va donc se limiter à 2 status maritaux : 'Married' ou 'Single'"
   ]
  },
  {
   "cell_type": "code",
   "execution_count": 27,
   "metadata": {},
   "outputs": [],
   "source": [
    "# Pas de valeurs nulles à traiter à part\n",
    "marital_groups = {'Divorced':'Single', 'Separated':'Single', 'Widowed':'Single', \n",
    "                'Married-AF-spouse':'Married', 'Married-civ-spouse':'Married', 'Married-spouse-absent':'Single',\n",
    "               'Never-married':'Single'}\n",
    "df['marital.status'] = [marital_groups[x] for x in df['marital.status']]"
   ]
  },
  {
   "cell_type": "code",
   "execution_count": 28,
   "metadata": {},
   "outputs": [
    {
     "data": {
      "text/plain": [
       "marital.status\n",
       "Married    14999\n",
       "Single     17562\n",
       "Name: marital.status, dtype: int64"
      ]
     },
     "execution_count": 28,
     "metadata": {},
     "output_type": "execute_result"
    }
   ],
   "source": [
    "df.groupby('marital.status')['marital.status'].count()"
   ]
  },
  {
   "cell_type": "markdown",
   "metadata": {},
   "source": [
    "## relationship"
   ]
  },
  {
   "cell_type": "code",
   "execution_count": 29,
   "metadata": {},
   "outputs": [
    {
     "data": {
      "text/plain": [
       "<seaborn.axisgrid.FacetGrid at 0x9f5ccd438>"
      ]
     },
     "execution_count": 29,
     "metadata": {},
     "output_type": "execute_result"
    },
    {
     "data": {
      "image/png": "[encoded data removed]",
      "text/plain": [
       "<Figure size 360x360 with 1 Axes>"
      ]
     },
     "metadata": {
      "needs_background": "light"
     },
     "output_type": "display_data"
    }
   ],
   "source": [
    "g = sns.catplot(x=\"relationship\", kind=\"count\",palette=\"ch:.25\", data=df) \n",
    "g.set_xticklabels(rotation=30)\n",
    "g\n",
    "# On remarque qu'on obtient plusieurs catégories, desquelles ne ressortent pas clairement plusieurs groupes. \n",
    "# On va étudier quels regroupements effectuer"
   ]
  },
  {
   "cell_type": "code",
   "execution_count": 30,
   "metadata": {},
   "outputs": [
    {
     "data": {
      "image/png": "[encoded data removed]",
      "text/plain": [
       "<Figure size 432x288 with 2 Axes>"
      ]
     },
     "metadata": {
      "needs_background": "light"
     },
     "output_type": "display_data"
    }
   ],
   "source": [
    "# On cherche à connaître l'influence du status marital sur la variable income\n",
    "table = (df.groupby(['relationship', 'income']).income.count()/df.groupby('relationship').income.count()).unstack()\n",
    "ax = sns.heatmap(table, yticklabels=table.index, xticklabels=table.columns)\n",
    "# On observe clairement 2 groupes se dessiner\n",
    "# On va donc se limiter à 2 catégories de relationship : 'Couple' ou 'Other'"
   ]
  },
  {
   "cell_type": "code",
   "execution_count": 31,
   "metadata": {},
   "outputs": [],
   "source": [
    "# Pas de valeurs nulles à traiter à part\n",
    "relationship_groups = {'Husband':'Couple', 'Wife':'Couple', 'Unmarried':'Other', \n",
    "                'Own-child':'Other', 'Other-relative':'Other', 'Not-in-family':'Other'}\n",
    "df['relationship'] = [relationship_groups[x] for x in df['relationship']]"
   ]
  },
  {
   "cell_type": "code",
   "execution_count": 32,
   "metadata": {},
   "outputs": [
    {
     "data": {
      "text/plain": [
       "relationship\n",
       "Couple    14761\n",
       "Other     17800\n",
       "Name: relationship, dtype: int64"
      ]
     },
     "execution_count": 32,
     "metadata": {},
     "output_type": "execute_result"
    }
   ],
   "source": [
    "df.groupby('relationship').relationship.count()"
   ]
  },
  {
   "cell_type": "markdown",
   "metadata": {},
   "source": [
    "## Corrélation relationship/marital.status"
   ]
  },
  {
   "cell_type": "code",
   "execution_count": 33,
   "metadata": {},
   "outputs": [
    {
     "data": {
      "image/png": "[encoded data removed]",
      "text/plain": [
       "<Figure size 432x288 with 2 Axes>"
      ]
     },
     "metadata": {
      "needs_background": "light"
     },
     "output_type": "display_data"
    }
   ],
   "source": [
    "# Les variables 'relationship' et 'marital.status' nous semblent, d'un point de vue logique, assez semblables\n",
    "# On affiche donc la matrice corrélation entre les deux afin de s'en assurer\n",
    "table = (df.groupby(['relationship', 'marital.status']).income.count()/df.groupby('relationship').income.count()).unstack()\n",
    "table = table.fillna(0.0)\n",
    "ax = sns.heatmap(table, yticklabels=table.index, xticklabels=table.columns)\n",
    "# Conclusion : les deux variables sont extrêmement corrélées\n",
    "# On peut donc supprimer 'relationship' sans perdre d'information"
   ]
  },
  {
   "cell_type": "code",
   "execution_count": 34,
   "metadata": {},
   "outputs": [],
   "source": [
    "df = df.drop('relationship', axis=1)"
   ]
  },
  {
   "cell_type": "markdown",
   "metadata": {},
   "source": [
    "# Missing data"
   ]
  },
  {
   "cell_type": "code",
   "execution_count": 35,
   "metadata": {},
   "outputs": [
    {
     "data": {
      "text/html": [
       "<div>\n",
       "<style scoped>\n",
       "    .dataframe tbody tr th:only-of-type {\n",
       "        vertical-align: middle;\n",
       "    }\n",
       "\n",
       "    .dataframe tbody tr th {\n",
       "        vertical-align: top;\n",
       "    }\n",
       "\n",
       "    .dataframe thead th {\n",
       "        text-align: right;\n",
       "    }\n",
       "</style>\n",
       "<table border=\"1\" class=\"dataframe\">\n",
       "  <thead>\n",
       "    <tr style=\"text-align: right;\">\n",
       "      <th></th>\n",
       "      <th>Total</th>\n",
       "      <th>Percent</th>\n",
       "    </tr>\n",
       "  </thead>\n",
       "  <tbody>\n",
       "    <tr>\n",
       "      <th>occupation</th>\n",
       "      <td>1843</td>\n",
       "      <td>0.056601</td>\n",
       "    </tr>\n",
       "    <tr>\n",
       "      <th>workclass</th>\n",
       "      <td>1836</td>\n",
       "      <td>0.056386</td>\n",
       "    </tr>\n",
       "    <tr>\n",
       "      <th>native.country</th>\n",
       "      <td>583</td>\n",
       "      <td>0.017905</td>\n",
       "    </tr>\n",
       "    <tr>\n",
       "      <th>income</th>\n",
       "      <td>0</td>\n",
       "      <td>0.000000</td>\n",
       "    </tr>\n",
       "    <tr>\n",
       "      <th>hours.per.week</th>\n",
       "      <td>0</td>\n",
       "      <td>0.000000</td>\n",
       "    </tr>\n",
       "    <tr>\n",
       "      <th>capital.loss</th>\n",
       "      <td>0</td>\n",
       "      <td>0.000000</td>\n",
       "    </tr>\n",
       "    <tr>\n",
       "      <th>capital.gain</th>\n",
       "      <td>0</td>\n",
       "      <td>0.000000</td>\n",
       "    </tr>\n",
       "    <tr>\n",
       "      <th>sex</th>\n",
       "      <td>0</td>\n",
       "      <td>0.000000</td>\n",
       "    </tr>\n",
       "    <tr>\n",
       "      <th>race</th>\n",
       "      <td>0</td>\n",
       "      <td>0.000000</td>\n",
       "    </tr>\n",
       "    <tr>\n",
       "      <th>marital.status</th>\n",
       "      <td>0</td>\n",
       "      <td>0.000000</td>\n",
       "    </tr>\n",
       "    <tr>\n",
       "      <th>education.num</th>\n",
       "      <td>0</td>\n",
       "      <td>0.000000</td>\n",
       "    </tr>\n",
       "    <tr>\n",
       "      <th>age</th>\n",
       "      <td>0</td>\n",
       "      <td>0.000000</td>\n",
       "    </tr>\n",
       "  </tbody>\n",
       "</table>\n",
       "</div>"
      ],
      "text/plain": [
       "                Total   Percent\n",
       "occupation       1843  0.056601\n",
       "workclass        1836  0.056386\n",
       "native.country    583  0.017905\n",
       "income              0  0.000000\n",
       "hours.per.week      0  0.000000\n",
       "capital.loss        0  0.000000\n",
       "capital.gain        0  0.000000\n",
       "sex                 0  0.000000\n",
       "race                0  0.000000\n",
       "marital.status      0  0.000000\n",
       "education.num       0  0.000000\n",
       "age                 0  0.000000"
      ]
     },
     "execution_count": 35,
     "metadata": {},
     "output_type": "execute_result"
    }
   ],
   "source": [
    "# On cherche le nombre de valeurs nulles par colonne\n",
    "total_null = df.isnull().sum().sort_values(ascending=False)\n",
    "percent_null = (df.isnull().sum()/df.isnull().count()).sort_values(ascending=False)\n",
    "table_null = pd.concat([total_null, percent_null], axis=1, keys=['Total', 'Percent'])\n",
    "table_null\n",
    "# Conclusion : 3 colonnes avec des données manquantes"
   ]
  },
  {
   "cell_type": "markdown",
   "metadata": {},
   "source": [
    "### workclass"
   ]
  },
  {
   "cell_type": "code",
   "execution_count": 36,
   "metadata": {},
   "outputs": [
    {
     "data": {
      "text/plain": [
       "<seaborn.axisgrid.FacetGrid at 0x9f7fa3240>"
      ]
     },
     "execution_count": 36,
     "metadata": {},
     "output_type": "execute_result"
    },
    {
     "data": {
      "image/png": "[encoded data removed]",
      "text/plain": [
       "<Figure size 360x360 with 1 Axes>"
      ]
     },
     "metadata": {
      "needs_background": "light"
     },
     "output_type": "display_data"
    }
   ],
   "source": [
    "g = sns.catplot(x=\"workclass\", kind=\"count\",palette=\"ch:.25\", data=df) \n",
    "g.set_xticklabels(rotation=30)\n",
    "g\n",
    "# La classe 'Private' domine très clairement les autres\n",
    "# On peut donc supposer que les données manquantes sont en réalité des 'Private'"
   ]
  },
  {
   "cell_type": "code",
   "execution_count": 37,
   "metadata": {},
   "outputs": [],
   "source": [
    "# Imputation valeur workclass\n",
    "imp_mf = SimpleImputer(missing_values=np.nan, strategy='most_frequent') # On remplace par la valeur la plus fréqeunte\n",
    "df['workclass'] = imp_mf.fit_transform(df[['workclass']])"
   ]
  },
  {
   "cell_type": "code",
   "execution_count": 38,
   "metadata": {},
   "outputs": [
    {
     "data": {
      "text/html": [
       "<div>\n",
       "<style scoped>\n",
       "    .dataframe tbody tr th:only-of-type {\n",
       "        vertical-align: middle;\n",
       "    }\n",
       "\n",
       "    .dataframe tbody tr th {\n",
       "        vertical-align: top;\n",
       "    }\n",
       "\n",
       "    .dataframe thead th {\n",
       "        text-align: right;\n",
       "    }\n",
       "</style>\n",
       "<table border=\"1\" class=\"dataframe\">\n",
       "  <thead>\n",
       "    <tr style=\"text-align: right;\">\n",
       "      <th></th>\n",
       "      <th>Total</th>\n",
       "      <th>Percent</th>\n",
       "    </tr>\n",
       "  </thead>\n",
       "  <tbody>\n",
       "    <tr>\n",
       "      <th>occupation</th>\n",
       "      <td>1843</td>\n",
       "      <td>0.056601</td>\n",
       "    </tr>\n",
       "    <tr>\n",
       "      <th>native.country</th>\n",
       "      <td>583</td>\n",
       "      <td>0.017905</td>\n",
       "    </tr>\n",
       "    <tr>\n",
       "      <th>income</th>\n",
       "      <td>0</td>\n",
       "      <td>0.000000</td>\n",
       "    </tr>\n",
       "    <tr>\n",
       "      <th>hours.per.week</th>\n",
       "      <td>0</td>\n",
       "      <td>0.000000</td>\n",
       "    </tr>\n",
       "    <tr>\n",
       "      <th>capital.loss</th>\n",
       "      <td>0</td>\n",
       "      <td>0.000000</td>\n",
       "    </tr>\n",
       "    <tr>\n",
       "      <th>capital.gain</th>\n",
       "      <td>0</td>\n",
       "      <td>0.000000</td>\n",
       "    </tr>\n",
       "    <tr>\n",
       "      <th>sex</th>\n",
       "      <td>0</td>\n",
       "      <td>0.000000</td>\n",
       "    </tr>\n",
       "    <tr>\n",
       "      <th>race</th>\n",
       "      <td>0</td>\n",
       "      <td>0.000000</td>\n",
       "    </tr>\n",
       "    <tr>\n",
       "      <th>marital.status</th>\n",
       "      <td>0</td>\n",
       "      <td>0.000000</td>\n",
       "    </tr>\n",
       "    <tr>\n",
       "      <th>education.num</th>\n",
       "      <td>0</td>\n",
       "      <td>0.000000</td>\n",
       "    </tr>\n",
       "    <tr>\n",
       "      <th>workclass</th>\n",
       "      <td>0</td>\n",
       "      <td>0.000000</td>\n",
       "    </tr>\n",
       "    <tr>\n",
       "      <th>age</th>\n",
       "      <td>0</td>\n",
       "      <td>0.000000</td>\n",
       "    </tr>\n",
       "  </tbody>\n",
       "</table>\n",
       "</div>"
      ],
      "text/plain": [
       "                Total   Percent\n",
       "occupation       1843  0.056601\n",
       "native.country    583  0.017905\n",
       "income              0  0.000000\n",
       "hours.per.week      0  0.000000\n",
       "capital.loss        0  0.000000\n",
       "capital.gain        0  0.000000\n",
       "sex                 0  0.000000\n",
       "race                0  0.000000\n",
       "marital.status      0  0.000000\n",
       "education.num       0  0.000000\n",
       "workclass           0  0.000000\n",
       "age                 0  0.000000"
      ]
     },
     "execution_count": 38,
     "metadata": {},
     "output_type": "execute_result"
    }
   ],
   "source": [
    "# On calcule à nouveau le nombre de valeurs manquantes pour chaque colonne\n",
    "# On vérifie bien qu'il n'y a plus de valeurs manquantes pour 'workclass'\n",
    "total_null = df.isnull().sum().sort_values(ascending=False)\n",
    "percent_null = (df.isnull().sum()/df.isnull().count()).sort_values(ascending=False)\n",
    "table_null = pd.concat([total_null, percent_null], axis=1, keys=['Total', 'Percent'])\n",
    "table_null"
   ]
  },
  {
   "cell_type": "markdown",
   "metadata": {},
   "source": [
    "### Native Country"
   ]
  },
  {
   "cell_type": "code",
   "execution_count": 39,
   "metadata": {},
   "outputs": [
    {
     "data": {
      "text/plain": [
       "<seaborn.axisgrid.FacetGrid at 0x9f812b6d8>"
      ]
     },
     "execution_count": 39,
     "metadata": {},
     "output_type": "execute_result"
    },
    {
     "data": {
      "image/png": "[encoded data removed]",
      "text/plain": [
       "<Figure size 360x360 with 1 Axes>"
      ]
     },
     "metadata": {
      "needs_background": "light"
     },
     "output_type": "display_data"
    }
   ],
   "source": [
    "g = sns.catplot(x=\"native.country\", kind=\"count\", palette=\"ch:.25\", data=df)\n",
    "g.set_xticklabels(rotation=30)\n",
    "g\n",
    "# Graphe peu lisible mais on voit clairement que la grosse majorité des personnes ont les USA pour pays d'origine."
   ]
  },
  {
   "cell_type": "code",
   "execution_count": 40,
   "metadata": {},
   "outputs": [],
   "source": [
    "# Imputation valeur native.country\n",
    "df['native.country'] = imp_mf.fit_transform(df[['native.country']])"
   ]
  },
  {
   "cell_type": "code",
   "execution_count": 41,
   "metadata": {},
   "outputs": [
    {
     "data": {
      "text/html": [
       "<div>\n",
       "<style scoped>\n",
       "    .dataframe tbody tr th:only-of-type {\n",
       "        vertical-align: middle;\n",
       "    }\n",
       "\n",
       "    .dataframe tbody tr th {\n",
       "        vertical-align: top;\n",
       "    }\n",
       "\n",
       "    .dataframe thead th {\n",
       "        text-align: right;\n",
       "    }\n",
       "</style>\n",
       "<table border=\"1\" class=\"dataframe\">\n",
       "  <thead>\n",
       "    <tr style=\"text-align: right;\">\n",
       "      <th></th>\n",
       "      <th>Total</th>\n",
       "      <th>Percent</th>\n",
       "    </tr>\n",
       "  </thead>\n",
       "  <tbody>\n",
       "    <tr>\n",
       "      <th>occupation</th>\n",
       "      <td>1843</td>\n",
       "      <td>0.056601</td>\n",
       "    </tr>\n",
       "    <tr>\n",
       "      <th>income</th>\n",
       "      <td>0</td>\n",
       "      <td>0.000000</td>\n",
       "    </tr>\n",
       "    <tr>\n",
       "      <th>native.country</th>\n",
       "      <td>0</td>\n",
       "      <td>0.000000</td>\n",
       "    </tr>\n",
       "    <tr>\n",
       "      <th>hours.per.week</th>\n",
       "      <td>0</td>\n",
       "      <td>0.000000</td>\n",
       "    </tr>\n",
       "    <tr>\n",
       "      <th>capital.loss</th>\n",
       "      <td>0</td>\n",
       "      <td>0.000000</td>\n",
       "    </tr>\n",
       "    <tr>\n",
       "      <th>capital.gain</th>\n",
       "      <td>0</td>\n",
       "      <td>0.000000</td>\n",
       "    </tr>\n",
       "    <tr>\n",
       "      <th>sex</th>\n",
       "      <td>0</td>\n",
       "      <td>0.000000</td>\n",
       "    </tr>\n",
       "    <tr>\n",
       "      <th>race</th>\n",
       "      <td>0</td>\n",
       "      <td>0.000000</td>\n",
       "    </tr>\n",
       "    <tr>\n",
       "      <th>marital.status</th>\n",
       "      <td>0</td>\n",
       "      <td>0.000000</td>\n",
       "    </tr>\n",
       "    <tr>\n",
       "      <th>education.num</th>\n",
       "      <td>0</td>\n",
       "      <td>0.000000</td>\n",
       "    </tr>\n",
       "    <tr>\n",
       "      <th>workclass</th>\n",
       "      <td>0</td>\n",
       "      <td>0.000000</td>\n",
       "    </tr>\n",
       "    <tr>\n",
       "      <th>age</th>\n",
       "      <td>0</td>\n",
       "      <td>0.000000</td>\n",
       "    </tr>\n",
       "  </tbody>\n",
       "</table>\n",
       "</div>"
      ],
      "text/plain": [
       "                Total   Percent\n",
       "occupation       1843  0.056601\n",
       "income              0  0.000000\n",
       "native.country      0  0.000000\n",
       "hours.per.week      0  0.000000\n",
       "capital.loss        0  0.000000\n",
       "capital.gain        0  0.000000\n",
       "sex                 0  0.000000\n",
       "race                0  0.000000\n",
       "marital.status      0  0.000000\n",
       "education.num       0  0.000000\n",
       "workclass           0  0.000000\n",
       "age                 0  0.000000"
      ]
     },
     "execution_count": 41,
     "metadata": {},
     "output_type": "execute_result"
    }
   ],
   "source": [
    "# On calcule à nouveau le nombre de valeurs manquantes pour chaque colonne\n",
    "# On vérifie bien qu'il n'y a plus de valeurs manquantes pour 'native.country'\n",
    "total_null = df.isnull().sum().sort_values(ascending=False)\n",
    "percent_null = (df.isnull().sum()/df.isnull().count()).sort_values(ascending=False)\n",
    "table_null = pd.concat([total_null, percent_null], axis=1, keys=['Total', 'Percent'])\n",
    "table_null"
   ]
  },
  {
   "cell_type": "markdown",
   "metadata": {},
   "source": [
    "### occupation"
   ]
  },
  {
   "cell_type": "code",
   "execution_count": 42,
   "metadata": {},
   "outputs": [
    {
     "data": {
      "text/plain": [
       "<seaborn.axisgrid.FacetGrid at 0x9f81b4c50>"
      ]
     },
     "execution_count": 42,
     "metadata": {},
     "output_type": "execute_result"
    },
    {
     "data": {
      "image/png": "[encoded data removed]",
      "text/plain": [
       "<Figure size 360x360 with 1 Axes>"
      ]
     },
     "metadata": {
      "needs_background": "light"
     },
     "output_type": "display_data"
    }
   ],
   "source": [
    "g = sns.catplot(x=\"occupation\", kind=\"count\", palette=\"ch:.25\", data=df)\n",
    "g.set_xticklabels(rotation=90)\n",
    "g\n",
    "# Pas d'occupation qui ressort particulièrement\n",
    "# Comment choisir quelle occupation imputer ?"
   ]
  },
  {
   "cell_type": "code",
   "execution_count": 43,
   "metadata": {},
   "outputs": [],
   "source": [
    "# On calcule la distribution initiale des occupations, avant prédiction des valeurs manquantes\n",
    "total = df.groupby('occupation').occupation.count()\n",
    "percent = round(df.groupby('occupation').occupation.count()/df.dropna()['occupation'].count(),6)*100\n",
    "stats_ini = pd.concat([total, percent], axis=1, keys=['Total', 'Percent'])"
   ]
  },
  {
   "cell_type": "code",
   "execution_count": 44,
   "metadata": {},
   "outputs": [],
   "source": [
    "# On prend une copie du dataframe pour pouvoir y appliquer des traitements uniquement pour la prédiciton de 'occupation'\n",
    "df_knn = df.copy() \n",
    "\n",
    "# On ne prend pas les revenus en compte car c'est la variable qu'on veut prédire in fine\n",
    "df_knn.drop('income', axis=1, inplace=True)\n",
    "\n",
    "# On va entraîner le modèle KNN sur les observations qui ont une occupation non nulle\n",
    "df_knn_train = df_knn.dropna()"
   ]
  },
  {
   "cell_type": "code",
   "execution_count": 45,
   "metadata": {},
   "outputs": [],
   "source": [
    "X_knn_train = pd.get_dummies(df_knn_train.drop('occupation', axis=1))\n",
    "Y_knn_train = df_knn_train['occupation']"
   ]
  },
  {
   "cell_type": "code",
   "execution_count": 46,
   "metadata": {},
   "outputs": [
    {
     "data": {
      "text/plain": [
       "Text(0, 0.5, 'Accuracy')"
      ]
     },
     "execution_count": 46,
     "metadata": {},
     "output_type": "execute_result"
    },
    {
     "data": {
      "image/png": "[encoded data removed]",
      "text/plain": [
       "<Figure size 432x288 with 1 Axes>"
      ]
     },
     "metadata": {
      "needs_background": "light"
     },
     "output_type": "display_data"
    }
   ],
   "source": [
    "# On calcule l'accuracy du modèle à l'aide de la cross-validation (division du train set en 5 sous-ensembles)\n",
    "# On challenge la valeur de k en traçant l'accuracy en fonction de k avec k entre 1 et 25\n",
    "x = range(1,26)\n",
    "y = [np.mean(cross_val_score(KNeighborsClassifier(n_neighbors=i), X_knn_train, Y_knn_train, scoring='accuracy', cv=5)) for i in x]\n",
    "plt.scatter(x,y)\n",
    "plt.xlabel('k')\n",
    "plt.ylabel('Accuracy')\n",
    "# On remarque qu'on atteint un palier après k = 20 environ"
   ]
  },
  {
   "cell_type": "code",
   "execution_count": 47,
   "metadata": {},
   "outputs": [
    {
     "name": "stdout",
     "output_type": "stream",
     "text": [
      "Moyenne accuracy :  0.2876484992273071\n",
      "Ecart type accuracy :  0.005295566915071731\n"
     ]
    }
   ],
   "source": [
    "# Pour k = 20\n",
    "# Comme il y a 14 catégories, l'accuracy d'un modèle aléatoire serait d'environ 0.07\n",
    "scores = cross_val_score(KNeighborsClassifier(n_neighbors=20), X_knn_train, Y_knn_train, cv=5, scoring='accuracy')\n",
    "print('Moyenne accuracy : ', np.mean(scores))\n",
    "print('Ecart type accuracy : ',np.std(scores))"
   ]
  },
  {
   "cell_type": "code",
   "execution_count": 48,
   "metadata": {},
   "outputs": [],
   "source": [
    "# On cherche à faire la prédiction sur les observations ayant une valeur nulle de l'occupation\n",
    "df_knn_predict = df_knn[df_knn['occupation'].isnull()]\n",
    "X_knn_predict = pd.get_dummies(df_knn_predict.drop('occupation', axis=1))\n",
    "# A cause des dummy variables, il faut faire attention au cas où certaines colonnes n'ont pas été créées dans le dataset de prédiction\n",
    "for column in X_knn_train.columns:\n",
    "    if column not in X_knn_predict.columns:\n",
    "        X_knn_predict[column]=0"
   ]
  },
  {
   "cell_type": "code",
   "execution_count": 49,
   "metadata": {},
   "outputs": [],
   "source": [
    "# On crée le classifieur\n",
    "clf_knn = KNeighborsClassifier(n_neighbors=20)\n",
    "# On entraine le classifieur\n",
    "clf_knn.fit(X_knn_train, Y_knn_train)\n",
    "# On prédit les valeurs manquantes\n",
    "Y_knn_predict = clf_knn.predict(X_knn_predict)\n",
    "# On remplit le dataset des observations à prédire avec les valeurs prédites\n",
    "df_knn_predict['occupation'] = [x for x in Y_knn_predict]"
   ]
  },
  {
   "cell_type": "code",
   "execution_count": 50,
   "metadata": {},
   "outputs": [],
   "source": [
    "# On complète les données manquantes du dataframe initial (df) grâce aux données prédites (df_knn_predict)\n",
    "for index in df_knn_predict.index:\n",
    "    df.loc[index,'occupation'] = df_knn_predict.loc[index,'occupation']"
   ]
  },
  {
   "cell_type": "code",
   "execution_count": 51,
   "metadata": {},
   "outputs": [],
   "source": [
    "# On veut valider la pertinence de nos prédictions\n",
    "# Pour cela, on va tracer la distribution des différentes occupations avant remplissage des valeurs manquantes, puis après\n",
    "# On a déjà calculé la distirbution initale (stats_ini)\n",
    "# On calcule maintenant la distribution finale\n",
    "total = df.groupby('occupation').occupation.count()\n",
    "percent = round(df.groupby('occupation').occupation.count()/df['occupation'].count(),6)*100\n",
    "stats_fin = pd.concat([total, percent], axis=1, keys=['Total', 'Percent'])"
   ]
  },
  {
   "cell_type": "code",
   "execution_count": 52,
   "metadata": {},
   "outputs": [
    {
     "data": {
      "image/png": "[encoded data removed]",
      "text/plain": [
       "<Figure size 432x288 with 1 Axes>"
      ]
     },
     "metadata": {
      "needs_background": "light"
     },
     "output_type": "display_data"
    }
   ],
   "source": [
    "# Graphique de comparaison en pourcentage\n",
    "fig = plt.figure()\n",
    "plt.scatter(stats_ini.index, stats_ini['Percent'],color='b', marker='x')  # en bleu : données brutes\n",
    "plt.scatter(stats_fin.index, stats_fin['Percent'],color='r', marker='x')  # en rouge : données complétées par les prédictions\n",
    "plt.xticks(rotation=90)\n",
    "plt.show()\n",
    "# On constate une répartition quasiment égale à précédemment"
   ]
  },
  {
   "cell_type": "code",
   "execution_count": 53,
   "metadata": {},
   "outputs": [
    {
     "data": {
      "text/html": [
       "<div>\n",
       "<style scoped>\n",
       "    .dataframe tbody tr th:only-of-type {\n",
       "        vertical-align: middle;\n",
       "    }\n",
       "\n",
       "    .dataframe tbody tr th {\n",
       "        vertical-align: top;\n",
       "    }\n",
       "\n",
       "    .dataframe thead th {\n",
       "        text-align: right;\n",
       "    }\n",
       "</style>\n",
       "<table border=\"1\" class=\"dataframe\">\n",
       "  <thead>\n",
       "    <tr style=\"text-align: right;\">\n",
       "      <th></th>\n",
       "      <th>Total</th>\n",
       "      <th>Percent</th>\n",
       "    </tr>\n",
       "  </thead>\n",
       "  <tbody>\n",
       "    <tr>\n",
       "      <th>income</th>\n",
       "      <td>0</td>\n",
       "      <td>0.0</td>\n",
       "    </tr>\n",
       "    <tr>\n",
       "      <th>native.country</th>\n",
       "      <td>0</td>\n",
       "      <td>0.0</td>\n",
       "    </tr>\n",
       "    <tr>\n",
       "      <th>hours.per.week</th>\n",
       "      <td>0</td>\n",
       "      <td>0.0</td>\n",
       "    </tr>\n",
       "    <tr>\n",
       "      <th>capital.loss</th>\n",
       "      <td>0</td>\n",
       "      <td>0.0</td>\n",
       "    </tr>\n",
       "    <tr>\n",
       "      <th>capital.gain</th>\n",
       "      <td>0</td>\n",
       "      <td>0.0</td>\n",
       "    </tr>\n",
       "    <tr>\n",
       "      <th>sex</th>\n",
       "      <td>0</td>\n",
       "      <td>0.0</td>\n",
       "    </tr>\n",
       "    <tr>\n",
       "      <th>race</th>\n",
       "      <td>0</td>\n",
       "      <td>0.0</td>\n",
       "    </tr>\n",
       "    <tr>\n",
       "      <th>occupation</th>\n",
       "      <td>0</td>\n",
       "      <td>0.0</td>\n",
       "    </tr>\n",
       "    <tr>\n",
       "      <th>marital.status</th>\n",
       "      <td>0</td>\n",
       "      <td>0.0</td>\n",
       "    </tr>\n",
       "    <tr>\n",
       "      <th>education.num</th>\n",
       "      <td>0</td>\n",
       "      <td>0.0</td>\n",
       "    </tr>\n",
       "    <tr>\n",
       "      <th>workclass</th>\n",
       "      <td>0</td>\n",
       "      <td>0.0</td>\n",
       "    </tr>\n",
       "    <tr>\n",
       "      <th>age</th>\n",
       "      <td>0</td>\n",
       "      <td>0.0</td>\n",
       "    </tr>\n",
       "  </tbody>\n",
       "</table>\n",
       "</div>"
      ],
      "text/plain": [
       "                Total  Percent\n",
       "income              0      0.0\n",
       "native.country      0      0.0\n",
       "hours.per.week      0      0.0\n",
       "capital.loss        0      0.0\n",
       "capital.gain        0      0.0\n",
       "sex                 0      0.0\n",
       "race                0      0.0\n",
       "occupation          0      0.0\n",
       "marital.status      0      0.0\n",
       "education.num       0      0.0\n",
       "workclass           0      0.0\n",
       "age                 0      0.0"
      ]
     },
     "execution_count": 53,
     "metadata": {},
     "output_type": "execute_result"
    }
   ],
   "source": [
    "# On calcule à nouveau le nombre de valeurs manquantes pour chaque colonne\n",
    "# On vérifie bien qu'il n'y a plus de valeurs manquantes pour 'occupation'\n",
    "total_null = df.isnull().sum().sort_values(ascending=False)\n",
    "percent_null = (df.isnull().sum()/df.isnull().count()).sort_values(ascending=False)\n",
    "table_null = pd.concat([total_null, percent_null], axis=1, keys=['Total', 'Percent'])\n",
    "table_null"
   ]
  },
  {
   "cell_type": "markdown",
   "metadata": {},
   "source": [
    "# Models"
   ]
  },
  {
   "cell_type": "code",
   "execution_count": 54,
   "metadata": {},
   "outputs": [],
   "source": [
    "# On transforme les variables qui ne prennent que 2 valeurs en variables binaires\n",
    "# Pour les autres variables qualitatives, on créera des dummy variables\n",
    "df['native.country'] = [0 if x == 'Other' else 1 for x in df['native.country']]\n",
    "#df['workclass'] = [0 if x == 'Other' else 1 for x in df['workclass']]\n",
    "df['sex'] = [0 if x == 'Female' else 1 for x in df['sex']]\n",
    "df['race'] = [0 if x == 'Other' else 1 for x in df['race']]\n",
    "df['marital.status'] = [0 if x == 'Single' else 1 for x in df['marital.status']]\n",
    "df['income'] = [0 if x == '<=50K' else 1 for x in df['income']]"
   ]
  },
  {
   "cell_type": "code",
   "execution_count": 55,
   "metadata": {},
   "outputs": [],
   "source": [
    "X = df.drop('income', axis=1)\n",
    "Y = df['income']"
   ]
  },
  {
   "cell_type": "code",
   "execution_count": 56,
   "metadata": {},
   "outputs": [],
   "source": [
    "X_dummies = pd.get_dummies(X)"
   ]
  },
  {
   "cell_type": "markdown",
   "metadata": {},
   "source": [
    "## Logistic Regression"
   ]
  },
  {
   "cell_type": "code",
   "execution_count": 57,
   "metadata": {},
   "outputs": [],
   "source": [
    "clf_lr = LogisticRegression()"
   ]
  },
  {
   "cell_type": "code",
   "execution_count": 58,
   "metadata": {},
   "outputs": [
    {
     "name": "stdout",
     "output_type": "stream",
     "text": [
      "Accuracy : 0.8489298571633901 ; 0.003889988565944591\n"
     ]
    }
   ],
   "source": [
    "# Avec toutes les variables\n",
    "scores_accuracy = cross_val_score(clf_lr, X_dummies, Y, cv=5, scoring='accuracy')\n",
    "print ('Accuracy : {0} ; {1}'.format(np.mean(scores_accuracy),np.std(scores_accuracy)))"
   ]
  },
  {
   "cell_type": "code",
   "execution_count": 59,
   "metadata": {
    "scrolled": true
   },
   "outputs": [
    {
     "name": "stdout",
     "output_type": "stream",
     "text": [
      "1\n",
      "Accuracy : 0.7995146637362206 ; 0.002896576975411722\n",
      "2\n",
      "Accuracy : 0.8115843959406834 ; 0.0035493613803393104\n",
      "3\n",
      "Accuracy : 0.8036607516397936 ; 0.003055006996549504\n",
      "4\n",
      "Accuracy : 0.8018180893929397 ; 0.0024067979107870244\n",
      "5\n",
      "Accuracy : 0.8060564940804463 ; 0.004281987479763468\n",
      "6\n",
      "Accuracy : 0.8423268328208448 ; 0.0022509886700796174\n",
      "7\n",
      "Accuracy : 0.8435553104714781 ; 0.0026681250379605396\n",
      "8\n",
      "Accuracy : 0.8439545120682845 ; 0.00460935901542654\n",
      "9\n",
      "Accuracy : 0.8452137211119247 ; 0.003919768881850839\n",
      "10\n",
      "Accuracy : 0.8430330937067463 ; 0.003232574188029981\n",
      "11\n",
      "Accuracy : 0.8455208086944614 ; 0.00268600230440056\n",
      "12\n",
      "Accuracy : 0.8459507605465688 ; 0.002641312355942769\n",
      "13\n",
      "Accuracy : 0.8463193533552815 ; 0.0034512907122194944\n",
      "14\n",
      "Accuracy : 0.8458893637785854 ; 0.002416200145914258\n",
      "15\n",
      "Accuracy : 0.8460736766874491 ; 0.003215925412676211\n",
      "16\n",
      "Accuracy : 0.8452751225954819 ; 0.0021127653308012717\n",
      "17\n",
      "Accuracy : 0.8476399544513317 ; 0.003195776772410505\n",
      "18\n",
      "Accuracy : 0.8473329140245308 ; 0.004033874122029276\n",
      "19\n",
      "Accuracy : 0.8466878518525226 ; 0.004071451659062019\n",
      "20\n",
      "Accuracy : 0.8476092183427513 ; 0.0026699921957108698\n",
      "21\n",
      "Accuracy : 0.8457357162446982 ; 0.0035710207759075646\n",
      "22\n",
      "Accuracy : 0.8472099177188998 ; 0.0035576734700567725\n",
      "23\n",
      "Accuracy : 0.848284828000397 ; 0.003993455181680525\n",
      "24\n",
      "Accuracy : 0.849206189775052 ; 0.003592507255690299\n",
      "25\n",
      "Accuracy : 0.8488991446326775 ; 0.004104298350676758\n",
      "26\n",
      "Accuracy : 0.8489298571633901 ; 0.003889988565944591\n"
     ]
    },
    {
     "data": {
      "text/plain": [
       "Text(0, 0.5, 'Accuracy')"
      ]
     },
     "execution_count": 59,
     "metadata": {},
     "output_type": "execute_result"
    },
    {
     "data": {
      "image/png": "[encoded data removed]",
      "text/plain": [
       "<Figure size 432x288 with 1 Axes>"
      ]
     },
     "metadata": {
      "needs_background": "light"
     },
     "output_type": "display_data"
    }
   ],
   "source": [
    "# Avec une méthode de feature selection : SelectKBest\n",
    "from sklearn.feature_selection import SelectKBest, chi2\n",
    "x = []\n",
    "y = []\n",
    "for i in range(1, len(X_dummies.columns)+1): \n",
    "    print(i)\n",
    "    X_new = SelectKBest(chi2, k=i).fit_transform(X_dummies, Y)\n",
    "    scores_accuracy = cross_val_score(clf_lr, X_new, Y, cv=5, scoring='accuracy')\n",
    "    print ('Accuracy : {0} ; {1}'.format(np.mean(scores_accuracy),np.std(scores_accuracy)))\n",
    "    x.append(i)\n",
    "    y.append(np.mean(scores_accuracy))\n",
    "plt.scatter(x,y)\n",
    "plt.xlabel('k')\n",
    "plt.ylabel('Accuracy')\n",
    "    \n",
    "# Meilleur score pour k=26 avec accuracy = 0.8493"
   ]
  },
  {
   "cell_type": "code",
   "execution_count": 60,
   "metadata": {},
   "outputs": [
    {
     "data": {
      "text/plain": [
       "Index([], dtype='object')"
      ]
     },
     "execution_count": 60,
     "metadata": {},
     "output_type": "execute_result"
    }
   ],
   "source": [
    "# On veut savoir quelles variables sont ignorées\n",
    "X_dummies.columns[~SelectKBest(chi2, k=26).fit(X_dummies, Y).get_support()]"
   ]
  },
  {
   "cell_type": "markdown",
   "metadata": {},
   "source": [
    "## Random Forest"
   ]
  },
  {
   "cell_type": "code",
   "execution_count": 61,
   "metadata": {},
   "outputs": [
    {
     "data": {
      "text/plain": [
       "{'mean_fit_time': array([ 5.4841156 ,  6.67316608,  8.85650759,  9.69616256, 12.09886956,\n",
       "        15.24284959, 15.33284621,  4.02721114,  5.92113967,  7.46040974,\n",
       "        10.7188097 , 11.70371418, 11.30382299, 14.24343429,  3.33180075,\n",
       "         4.24301643,  5.45332661,  7.24543071,  8.12191119,  9.39391761,\n",
       "        11.00181146,  7.57121148, 10.25774837, 15.08524289, 16.62695165,\n",
       "        18.43380928, 21.27800665, 24.09672961]),\n",
       " 'std_fit_time': array([1.38182548, 0.57506825, 0.92215952, 0.85800542, 0.19871211,\n",
       "        1.14010132, 0.96838338, 0.44896473, 0.36216073, 0.77966569,\n",
       "        1.12093536, 0.85445612, 0.50059232, 1.35896964, 0.15741525,\n",
       "        0.02314417, 0.02863382, 0.12266076, 0.266656  , 0.22385422,\n",
       "        0.40458071, 0.09229069, 0.2671206 , 0.53082524, 0.68830657,\n",
       "        0.04967219, 0.12726448, 0.1769589 ]),\n",
       " 'mean_score_time': array([0.4246274 , 0.57264547, 0.67400646, 0.67163653, 0.83729377,\n",
       "        1.31768913, 1.02645683, 0.35244026, 0.45264287, 0.65244164,\n",
       "        0.7842278 , 0.86419911, 0.9273015 , 1.14462957, 0.32362471,\n",
       "        0.43283648, 0.55582418, 0.73647661, 0.8028224 , 0.93245974,\n",
       "        1.0570591 , 0.28406062, 0.38683677, 0.59961591, 0.65001993,\n",
       "        0.69922848, 0.80343132, 0.89807215]),\n",
       " 'std_score_time': array([0.14856503, 0.13481167, 0.11438434, 0.05415865, 0.07153882,\n",
       "        0.41423907, 0.05147831, 0.0962119 , 0.05566276, 0.18000031,\n",
       "        0.07811728, 0.07819201, 0.12231617, 0.15218739, 0.02705568,\n",
       "        0.01587181, 0.02374627, 0.10480313, 0.03646391, 0.04264945,\n",
       "        0.03565172, 0.00878994, 0.01517355, 0.08109007, 0.04155999,\n",
       "        0.00974546, 0.02496908, 0.02491264]),\n",
       " 'param_max_features': masked_array(data=['auto', 'auto', 'auto', 'auto', 'auto', 'auto', 'auto',\n",
       "                    'log2', 'log2', 'log2', 'log2', 'log2', 'log2', 'log2',\n",
       "                    0.1, 0.1, 0.1, 0.1, 0.1, 0.1, 0.1, 0.5, 0.5, 0.5, 0.5,\n",
       "                    0.5, 0.5, 0.5],\n",
       "              mask=[False, False, False, False, False, False, False, False,\n",
       "                    False, False, False, False, False, False, False, False,\n",
       "                    False, False, False, False, False, False, False, False,\n",
       "                    False, False, False, False],\n",
       "        fill_value='?',\n",
       "             dtype=object),\n",
       " 'param_n_estimators': masked_array(data=[100, 140, 180, 220, 260, 300, 340, 100, 140, 180, 220,\n",
       "                    260, 300, 340, 100, 140, 180, 220, 260, 300, 340, 100,\n",
       "                    140, 180, 220, 260, 300, 340],\n",
       "              mask=[False, False, False, False, False, False, False, False,\n",
       "                    False, False, False, False, False, False, False, False,\n",
       "                    False, False, False, False, False, False, False, False,\n",
       "                    False, False, False, False],\n",
       "        fill_value='?',\n",
       "             dtype=object),\n",
       " 'params': [{'max_features': 'auto', 'n_estimators': 100},\n",
       "  {'max_features': 'auto', 'n_estimators': 140},\n",
       "  {'max_features': 'auto', 'n_estimators': 180},\n",
       "  {'max_features': 'auto', 'n_estimators': 220},\n",
       "  {'max_features': 'auto', 'n_estimators': 260},\n",
       "  {'max_features': 'auto', 'n_estimators': 300},\n",
       "  {'max_features': 'auto', 'n_estimators': 340},\n",
       "  {'max_features': 'log2', 'n_estimators': 100},\n",
       "  {'max_features': 'log2', 'n_estimators': 140},\n",
       "  {'max_features': 'log2', 'n_estimators': 180},\n",
       "  {'max_features': 'log2', 'n_estimators': 220},\n",
       "  {'max_features': 'log2', 'n_estimators': 260},\n",
       "  {'max_features': 'log2', 'n_estimators': 300},\n",
       "  {'max_features': 'log2', 'n_estimators': 340},\n",
       "  {'max_features': 0.1, 'n_estimators': 100},\n",
       "  {'max_features': 0.1, 'n_estimators': 140},\n",
       "  {'max_features': 0.1, 'n_estimators': 180},\n",
       "  {'max_features': 0.1, 'n_estimators': 220},\n",
       "  {'max_features': 0.1, 'n_estimators': 260},\n",
       "  {'max_features': 0.1, 'n_estimators': 300},\n",
       "  {'max_features': 0.1, 'n_estimators': 340},\n",
       "  {'max_features': 0.5, 'n_estimators': 100},\n",
       "  {'max_features': 0.5, 'n_estimators': 140},\n",
       "  {'max_features': 0.5, 'n_estimators': 180},\n",
       "  {'max_features': 0.5, 'n_estimators': 220},\n",
       "  {'max_features': 0.5, 'n_estimators': 260},\n",
       "  {'max_features': 0.5, 'n_estimators': 300},\n",
       "  {'max_features': 0.5, 'n_estimators': 340}],\n",
       " 'split0_test_score': array([0.84231537, 0.84385076, 0.84170121, 0.84292953, 0.84369722,\n",
       "        0.84354368, 0.8432366 , 0.8432366 , 0.84477199, 0.84154767,\n",
       "        0.84292953, 0.84461846, 0.84308306, 0.84262245, 0.83939813,\n",
       "        0.8440043 , 0.84200829, 0.84354368, 0.8432366 , 0.84154767,\n",
       "        0.84339014, 0.84431138, 0.84200829, 0.84308306, 0.84415784,\n",
       "        0.84277599, 0.84277599, 0.84200829]),\n",
       " 'split1_test_score': array([0.8458231 , 0.84858722, 0.84643735, 0.84797297, 0.84659091,\n",
       "        0.84505528, 0.84720516, 0.84597666, 0.84643735, 0.8470516 ,\n",
       "        0.84613022, 0.84428747, 0.8470516 , 0.84505528, 0.84321253,\n",
       "        0.84382678, 0.84321253, 0.84213759, 0.84659091, 0.84505528,\n",
       "        0.84505528, 0.84766585, 0.84628378, 0.84674447, 0.84781941,\n",
       "        0.84904791, 0.84889435, 0.8470516 ]),\n",
       " 'split2_test_score': array([0.84382678, 0.84259828, 0.84259828, 0.84398034, 0.84351966,\n",
       "        0.84505528, 0.84290541, 0.84520885, 0.84183047, 0.84444103,\n",
       "        0.84382678, 0.84305897, 0.84382678, 0.84398034, 0.83829853,\n",
       "        0.84090909, 0.84075553, 0.83875921, 0.84198403, 0.83937346,\n",
       "        0.83968059, 0.84213759, 0.84198403, 0.84551597, 0.84229115,\n",
       "        0.84290541, 0.84551597, 0.84198403]),\n",
       " 'split3_test_score': array([0.8416769 , 0.84152334, 0.84090909, 0.8392199 , 0.84075553,\n",
       "        0.84275184, 0.8404484 , 0.83906634, 0.83829853, 0.84060197,\n",
       "        0.84106265, 0.83937346, 0.83860565, 0.84029484, 0.83814496,\n",
       "        0.83906634, 0.83707002, 0.83875921, 0.83875921, 0.83783784,\n",
       "        0.83891278, 0.84198403, 0.84290541, 0.84229115, 0.84597666,\n",
       "        0.84075553, 0.84213759, 0.84213759]),\n",
       " 'split4_test_score': array([0.84889435, 0.84674447, 0.84766585, 0.85027641, 0.84889435,\n",
       "        0.84812654, 0.84920147, 0.84659091, 0.84812654, 0.85012285,\n",
       "        0.84858722, 0.84966216, 0.84797297, 0.84858722, 0.84766585,\n",
       "        0.84597666, 0.8470516 , 0.84566953, 0.84720516, 0.8470516 ,\n",
       "        0.84413391, 0.85089066, 0.8495086 , 0.84904791, 0.85150491,\n",
       "        0.84935504, 0.85135135, 0.8507371 ]),\n",
       " 'mean_test_score': array([0.84450723, 0.84466079, 0.84386229, 0.84487577, 0.8446915 ,\n",
       "        0.84490648, 0.84459937, 0.84401585, 0.843893  , 0.84475293,\n",
       "        0.84450723, 0.84420012, 0.84410798, 0.84410798, 0.84134394,\n",
       "        0.84275667, 0.84201959, 0.8417739 , 0.84355517, 0.84217315,\n",
       "        0.84223458, 0.84539787, 0.84453794, 0.84533645, 0.84634993,\n",
       "        0.84496791, 0.84613495, 0.84478364]),\n",
       " 'std_test_score': array([0.00261748, 0.00262722, 0.00268652, 0.00388166, 0.0027973 ,\n",
       "        0.00183916, 0.00315992, 0.0027204 , 0.00348481, 0.00351343,\n",
       "        0.0026114 , 0.00330496, 0.00331683, 0.00274676, 0.00365379,\n",
       "        0.00245363, 0.00325081, 0.00270616, 0.00310187, 0.00343885,\n",
       "        0.00246802, 0.00342862, 0.00294421, 0.00245524, 0.00316704,\n",
       "        0.00354104, 0.00353467, 0.00355327]),\n",
       " 'rank_test_score': array([14, 11, 21,  7, 10,  6, 12, 19, 20,  9, 14, 16, 17, 17, 28, 23, 26,\n",
       "        27, 22, 25, 24,  3, 13,  4,  1,  5,  2,  8]),\n",
       " 'split0_train_score': array([0.97381757, 0.97385596, 0.97385596, 0.97385596, 0.97385596,\n",
       "        0.97385596, 0.97385596, 0.97385596, 0.97385596, 0.97385596,\n",
       "        0.97385596, 0.97385596, 0.97385596, 0.97385596, 0.97381757,\n",
       "        0.97385596, 0.97385596, 0.97385596, 0.97385596, 0.97385596,\n",
       "        0.97385596, 0.97381757, 0.97385596, 0.97385596, 0.97385596,\n",
       "        0.97385596, 0.97385596, 0.97385596]),\n",
       " 'split1_train_score': array([0.97328112, 0.97328112, 0.97328112, 0.97328112, 0.97328112,\n",
       "        0.97328112, 0.97328112, 0.97324273, 0.97324273, 0.97328112,\n",
       "        0.97328112, 0.97328112, 0.97328112, 0.97328112, 0.97320435,\n",
       "        0.97328112, 0.97328112, 0.97328112, 0.97328112, 0.97328112,\n",
       "        0.97328112, 0.97328112, 0.97328112, 0.97328112, 0.97328112,\n",
       "        0.97328112, 0.97328112, 0.97328112]),\n",
       " 'split2_train_score': array([0.97435602, 0.97439441, 0.97439441, 0.97439441, 0.97439441,\n",
       "        0.97439441, 0.97439441, 0.97439441, 0.97439441, 0.97439441,\n",
       "        0.97439441, 0.97439441, 0.97439441, 0.97439441, 0.97435602,\n",
       "        0.97435602, 0.97439441, 0.97439441, 0.97439441, 0.97439441,\n",
       "        0.97439441, 0.97431763, 0.97439441, 0.97439441, 0.97439441,\n",
       "        0.97439441, 0.97439441, 0.97439441]),\n",
       " 'split3_train_score': array([0.97447119, 0.97450958, 0.97450958, 0.97450958, 0.97450958,\n",
       "        0.97450958, 0.97450958, 0.97447119, 0.97450958, 0.97450958,\n",
       "        0.97450958, 0.97450958, 0.97450958, 0.97450958, 0.9744328 ,\n",
       "        0.97450958, 0.97450958, 0.97450958, 0.97450958, 0.97450958,\n",
       "        0.97450958, 0.97450958, 0.97447119, 0.97450958, 0.97450958,\n",
       "        0.97450958, 0.97450958, 0.97450958]),\n",
       " 'split4_train_score': array([0.97282045, 0.97293562, 0.97293562, 0.97293562, 0.97293562,\n",
       "        0.97293562, 0.97293562, 0.97293562, 0.97293562, 0.97293562,\n",
       "        0.97293562, 0.97293562, 0.97293562, 0.97293562, 0.97293562,\n",
       "        0.97293562, 0.97293562, 0.97293562, 0.97293562, 0.97293562,\n",
       "        0.97293562, 0.97293562, 0.97293562, 0.97293562, 0.97293562,\n",
       "        0.97293562, 0.97293562, 0.97293562]),\n",
       " 'mean_train_score': array([0.97374927, 0.97379534, 0.97379534, 0.97379534, 0.97379534,\n",
       "        0.97379534, 0.97379534, 0.97377998, 0.97378766, 0.97379534,\n",
       "        0.97379534, 0.97379534, 0.97379534, 0.97379534, 0.97374927,\n",
       "        0.97378766, 0.97379534, 0.97379534, 0.97379534, 0.97379534,\n",
       "        0.97379534, 0.9737723 , 0.97378766, 0.97379534, 0.97379534,\n",
       "        0.97379534, 0.97379534, 0.97379534]),\n",
       " 'std_train_score': array([0.00062862, 0.00061257, 0.00061257, 0.00061257, 0.00061257,\n",
       "        0.00061257, 0.00061257, 0.00061035, 0.00061918, 0.00061257,\n",
       "        0.00061257, 0.00061257, 0.00061257, 0.00061257, 0.00059983,\n",
       "        0.00060521, 0.00061257, 0.00061257, 0.00061257, 0.00061257,\n",
       "        0.00061257, 0.00059738, 0.00060375, 0.00061257, 0.00061257,\n",
       "        0.00061257, 0.00061257, 0.00061257])}"
      ]
     },
     "execution_count": 61,
     "metadata": {},
     "output_type": "execute_result"
    }
   ],
   "source": [
    "clf_rf = RandomForestClassifier()\n",
    "n_estimators = [i for i in range(100,341,40)]\n",
    "max_features = ['auto', 'log2', 0.1, 0.5]\n",
    "parameters = {'n_estimators': n_estimators, 'max_features': max_features}\n",
    "clf_gs_rf = GridSearchCV(clf_rf, parameters, cv=5, scoring='accuracy')\n",
    "clf_gs_rf.fit(X_dummies, Y)\n",
    "clf_gs_rf.cv_results_"
   ]
  },
  {
   "cell_type": "code",
   "execution_count": 62,
   "metadata": {},
   "outputs": [
    {
     "data": {
      "text/plain": [
       "{'max_features': 0.5, 'n_estimators': 220}"
      ]
     },
     "execution_count": 62,
     "metadata": {},
     "output_type": "execute_result"
    }
   ],
   "source": [
    "clf_gs_rf.best_params_"
   ]
  },
  {
   "cell_type": "code",
   "execution_count": 63,
   "metadata": {},
   "outputs": [
    {
     "name": "stdout",
     "output_type": "stream",
     "text": [
      "Accuracy du modèle: Moyenne:0.8459200574470035; Ecart-type:0.002883596363670337\n"
     ]
    }
   ],
   "source": [
    "clf_rf = RandomForestClassifier(n_estimators=300, max_features=0.5, n_jobs=-1)\n",
    "clf_rf.fit(X_dummies,Y)\n",
    "# Accuracy\n",
    "scores = cross_val_score(clf_rf, X_dummies, Y, cv=5, scoring='accuracy')\n",
    "print(\"Accuracy du modèle: Moyenne:{}; Ecart-type:{}\".format(np.mean(scores),np.std(scores)))"
   ]
  },
  {
   "cell_type": "code",
   "execution_count": 64,
   "metadata": {},
   "outputs": [
    {
     "data": {
      "text/html": [
       "<div>\n",
       "<style scoped>\n",
       "    .dataframe tbody tr th:only-of-type {\n",
       "        vertical-align: middle;\n",
       "    }\n",
       "\n",
       "    .dataframe tbody tr th {\n",
       "        vertical-align: top;\n",
       "    }\n",
       "\n",
       "    .dataframe thead th {\n",
       "        text-align: right;\n",
       "    }\n",
       "</style>\n",
       "<table border=\"1\" class=\"dataframe\">\n",
       "  <thead>\n",
       "    <tr style=\"text-align: right;\">\n",
       "      <th></th>\n",
       "      <th>feature_importance</th>\n",
       "    </tr>\n",
       "    <tr>\n",
       "      <th>category</th>\n",
       "      <th></th>\n",
       "    </tr>\n",
       "  </thead>\n",
       "  <tbody>\n",
       "    <tr>\n",
       "      <th>age</th>\n",
       "      <td>0.212130</td>\n",
       "    </tr>\n",
       "    <tr>\n",
       "      <th>marital.status</th>\n",
       "      <td>0.184902</td>\n",
       "    </tr>\n",
       "    <tr>\n",
       "      <th>education.num</th>\n",
       "      <td>0.140122</td>\n",
       "    </tr>\n",
       "    <tr>\n",
       "      <th>capital.gain</th>\n",
       "      <td>0.132768</td>\n",
       "    </tr>\n",
       "    <tr>\n",
       "      <th>hours.per.week</th>\n",
       "      <td>0.109959</td>\n",
       "    </tr>\n",
       "    <tr>\n",
       "      <th>occupation</th>\n",
       "      <td>0.091564</td>\n",
       "    </tr>\n",
       "    <tr>\n",
       "      <th>capital.loss</th>\n",
       "      <td>0.042779</td>\n",
       "    </tr>\n",
       "    <tr>\n",
       "      <th>workclass</th>\n",
       "      <td>0.035819</td>\n",
       "    </tr>\n",
       "    <tr>\n",
       "      <th>sex</th>\n",
       "      <td>0.020293</td>\n",
       "    </tr>\n",
       "    <tr>\n",
       "      <th>race</th>\n",
       "      <td>0.016866</td>\n",
       "    </tr>\n",
       "    <tr>\n",
       "      <th>native.country</th>\n",
       "      <td>0.012798</td>\n",
       "    </tr>\n",
       "  </tbody>\n",
       "</table>\n",
       "</div>"
      ],
      "text/plain": [
       "                feature_importance\n",
       "category                          \n",
       "age                       0.212130\n",
       "marital.status            0.184902\n",
       "education.num             0.140122\n",
       "capital.gain              0.132768\n",
       "hours.per.week            0.109959\n",
       "occupation                0.091564\n",
       "capital.loss              0.042779\n",
       "workclass                 0.035819\n",
       "sex                       0.020293\n",
       "race                      0.016866\n",
       "native.country            0.012798"
      ]
     },
     "execution_count": 64,
     "metadata": {},
     "output_type": "execute_result"
    }
   ],
   "source": [
    "# Importance des features\n",
    "feature_categories = [X_dummies.columns[i].split('_')[0] for i in range(len(X_dummies.columns))]\n",
    "grouped_features = pd.DataFrame(data={'feature_importance':clf_rf.feature_importances_,'category':feature_categories}).groupby('category').sum()\n",
    "grouped_features.sort_values(by='feature_importance', ascending=False)"
   ]
  },
  {
   "cell_type": "code",
   "execution_count": 65,
   "metadata": {
    "scrolled": true
   },
   "outputs": [
    {
     "name": "stdout",
     "output_type": "stream",
     "text": [
      "Accuracy - Sans variable 'sex' : Moyenne:0.8452751037331876; Ecart-type:0.003986566387555441\n",
      "Accuracy - Sans variable 'race' : Moyenne:0.844599437488659; Ecart-type:0.0030070762196176045\n",
      "Accuracy - Sans variable 'native.country' : Moyenne:0.8453672790499137; Ecart-type:0.004462189659179406\n",
      "Accuracy - Sans variable 'race' ni 'native.country' : Moyenne:0.8427567752418053; Ecart-type:0.00363327690494197\n"
     ]
    }
   ],
   "source": [
    "# Sans variable 'sex'\n",
    "scores_sex = cross_val_score(clf_rf, X_dummies.drop('sex', axis=1), Y, cv=5, scoring='accuracy')\n",
    "print(\"Accuracy - Sans variable 'sex' : Moyenne:{}; Ecart-type:{}\".format(np.mean(scores_sex),np.std(scores_sex)))\n",
    "\n",
    "# Sans variable 'race'\n",
    "scores_race = cross_val_score(clf_rf, X_dummies.drop('race', axis=1), Y, cv=5, scoring='accuracy')\n",
    "print(\"Accuracy - Sans variable 'race' : Moyenne:{}; Ecart-type:{}\".format(np.mean(scores_race),np.std(scores_race)))\n",
    "\n",
    "# Sans variable 'native.country'\n",
    "scores_nc = cross_val_score(clf_rf, X_dummies.drop('native.country', axis=1), Y, cv=5, scoring='accuracy')\n",
    "print(\"Accuracy - Sans variable 'native.country' : Moyenne:{}; Ecart-type:{}\".format(np.mean(scores_nc),np.std(scores_nc)))\n",
    "\n",
    "# Sans variable 'race' ni 'native.country'\n",
    "scores_race_nc = cross_val_score(clf_rf, X_dummies.drop(['race', 'native.country'], axis=1), Y, cv=5, scoring='accuracy')\n",
    "print(\"Accuracy - Sans variable 'race' ni 'native.country' : Moyenne:{}; Ecart-type:{}\".format(np.mean(scores_race_nc),np.std(scores_race_nc)))\n"
   ]
  },
  {
   "cell_type": "markdown",
   "metadata": {},
   "source": [
    "## XGBoost"
   ]
  },
  {
   "cell_type": "code",
   "execution_count": 66,
   "metadata": {
    "scrolled": true
   },
   "outputs": [
    {
     "data": {
      "text/plain": [
       "{'mean_fit_time': array([ 9.01092153, 10.69638314, 11.95187864, 13.24312959, 14.54621849,\n",
       "        16.18752108, 18.74087605, 11.72366571, 12.97708645, 14.04258533,\n",
       "        16.67154131, 17.27580299, 18.385465  , 20.00958385, 12.40027061,\n",
       "        14.37941327, 16.51593409, 19.62693005, 21.69644918, 23.31379848,\n",
       "        24.86213622]),\n",
       " 'std_fit_time': array([0.58087506, 0.7838911 , 0.55694666, 0.85587888, 0.31633522,\n",
       "        0.6705868 , 1.40373411, 0.95507974, 0.56335246, 0.85401861,\n",
       "        0.52540008, 0.64676484, 0.06757819, 0.10814937, 0.07145937,\n",
       "        0.04557208, 0.1955579 , 0.6766781 , 0.57080435, 0.53677754,\n",
       "        0.07099556]),\n",
       " 'mean_score_time': array([0.04918776, 0.05221028, 0.05760894, 0.05760322, 0.06059575,\n",
       "        0.070192  , 0.07359753, 0.06202955, 0.06840949, 0.06937451,\n",
       "        0.08478904, 0.08035092, 0.08444042, 0.09174724, 0.07458649,\n",
       "        0.08338299, 0.09223552, 0.11335068, 0.11760507, 0.12357125,\n",
       "        0.13143272]),\n",
       " 'std_score_time': array([0.00636974, 0.00476502, 0.00875327, 0.00585213, 0.00268346,\n",
       "        0.00833843, 0.01677861, 0.00558909, 0.00277403, 0.00189756,\n",
       "        0.01272324, 0.00151283, 0.0010298 , 0.00130151, 0.00108585,\n",
       "        0.00049508, 0.00129527, 0.01089703, 0.00376472, 0.00381865,\n",
       "        0.00439345]),\n",
       " 'param_max_depth': masked_array(data=[1, 1, 1, 1, 1, 1, 1, 2, 2, 2, 2, 2, 2, 2, 3, 3, 3, 3,\n",
       "                    3, 3, 3],\n",
       "              mask=[False, False, False, False, False, False, False, False,\n",
       "                    False, False, False, False, False, False, False, False,\n",
       "                    False, False, False, False, False],\n",
       "        fill_value='?',\n",
       "             dtype=object),\n",
       " 'param_n_estimators': masked_array(data=[300, 350, 400, 450, 500, 550, 600, 300, 350, 400, 450,\n",
       "                    500, 550, 600, 300, 350, 400, 450, 500, 550, 600],\n",
       "              mask=[False, False, False, False, False, False, False, False,\n",
       "                    False, False, False, False, False, False, False, False,\n",
       "                    False, False, False, False, False],\n",
       "        fill_value='?',\n",
       "             dtype=object),\n",
       " 'params': [{'max_depth': 1, 'n_estimators': 300},\n",
       "  {'max_depth': 1, 'n_estimators': 350},\n",
       "  {'max_depth': 1, 'n_estimators': 400},\n",
       "  {'max_depth': 1, 'n_estimators': 450},\n",
       "  {'max_depth': 1, 'n_estimators': 500},\n",
       "  {'max_depth': 1, 'n_estimators': 550},\n",
       "  {'max_depth': 1, 'n_estimators': 600},\n",
       "  {'max_depth': 2, 'n_estimators': 300},\n",
       "  {'max_depth': 2, 'n_estimators': 350},\n",
       "  {'max_depth': 2, 'n_estimators': 400},\n",
       "  {'max_depth': 2, 'n_estimators': 450},\n",
       "  {'max_depth': 2, 'n_estimators': 500},\n",
       "  {'max_depth': 2, 'n_estimators': 550},\n",
       "  {'max_depth': 2, 'n_estimators': 600},\n",
       "  {'max_depth': 3, 'n_estimators': 300},\n",
       "  {'max_depth': 3, 'n_estimators': 350},\n",
       "  {'max_depth': 3, 'n_estimators': 400},\n",
       "  {'max_depth': 3, 'n_estimators': 450},\n",
       "  {'max_depth': 3, 'n_estimators': 500},\n",
       "  {'max_depth': 3, 'n_estimators': 550},\n",
       "  {'max_depth': 3, 'n_estimators': 600}],\n",
       " 'split0_test_score': array([0.8538308 , 0.85398434, 0.85521265, 0.85720866, 0.85751574,\n",
       "        0.85720866, 0.8573622 , 0.86212191, 0.86304314, 0.86319668,\n",
       "        0.86350376, 0.86350376, 0.86381084, 0.86304314, 0.86534623,\n",
       "        0.86611393, 0.866421  , 0.86672808, 0.8671887 , 0.866421  ,\n",
       "        0.86657454]),\n",
       " 'split1_test_score': array([0.85641892, 0.85657248, 0.85657248, 0.85626536, 0.85626536,\n",
       "        0.85718673, 0.85810811, 0.86440418, 0.86532555, 0.8647113 ,\n",
       "        0.86501843, 0.86455774, 0.86440418, 0.86455774, 0.86778256,\n",
       "        0.86855037, 0.86808968, 0.86793612, 0.86901106, 0.86793612,\n",
       "        0.86839681]),\n",
       " 'split2_test_score': array([0.85933661, 0.85995086, 0.86210074, 0.86302211, 0.86286855,\n",
       "        0.86409705, 0.86425061, 0.87054668, 0.87162162, 0.87285012,\n",
       "        0.87315725, 0.87346437, 0.87361794, 0.87300369, 0.8762285 ,\n",
       "        0.87638206, 0.87668919, 0.87699631, 0.87730344, 0.87730344,\n",
       "        0.87730344]),\n",
       " 'split3_test_score': array([0.85365479, 0.85334767, 0.85457617, 0.85534398, 0.85472973,\n",
       "        0.85457617, 0.85503686, 0.86210074, 0.86302211, 0.86440418,\n",
       "        0.86517199, 0.86532555, 0.86532555, 0.86517199, 0.86701474,\n",
       "        0.86686118, 0.86824324, 0.86855037, 0.86839681, 0.86870393,\n",
       "        0.86916462]),\n",
       " 'split4_test_score': array([0.85918305, 0.85964373, 0.86071867, 0.86148649, 0.86240786,\n",
       "        0.86271499, 0.86286855, 0.87070025, 0.87300369, 0.87285012,\n",
       "        0.87361794, 0.87407862, 0.87423219, 0.87238943, 0.87484644,\n",
       "        0.875     , 0.87530713, 0.87653563, 0.87638206, 0.8762285 ,\n",
       "        0.8762285 ]),\n",
       " 'mean_test_score': array([0.85648475, 0.85669973, 0.85783606, 0.85866527, 0.85875741,\n",
       "        0.85915666, 0.8595252 , 0.86597463, 0.8672031 , 0.86760235,\n",
       "        0.86809373, 0.86818587, 0.868278  , 0.86763306, 0.87024354,\n",
       "        0.87058137, 0.87094991, 0.87134916, 0.87165628, 0.87131845,\n",
       "        0.87153343]),\n",
       " 'std_test_score': array([0.00246862, 0.00275183, 0.00302001, 0.00302828, 0.00329242,\n",
       "        0.00362557, 0.00347386, 0.00388721, 0.00427741, 0.0043145 ,\n",
       "        0.0043639 , 0.00460118, 0.00463996, 0.0041964 , 0.00441525,\n",
       "        0.00426838, 0.00419388, 0.00446378, 0.00428496, 0.00452084,\n",
       "        0.00436756]),\n",
       " 'rank_test_score': array([21, 20, 19, 18, 17, 16, 15, 14, 13, 12, 10,  9,  8, 11,  7,  6,  5,\n",
       "         3,  1,  4,  2]),\n",
       " 'split0_train_score': array([0.85849201, 0.85925983, 0.8601812 , 0.86056511, 0.86098741,\n",
       "        0.86152488, 0.86171683, 0.86931818, 0.87066186, 0.87177518,\n",
       "        0.87246622, 0.87308047, 0.87342598, 0.87373311, 0.87699631,\n",
       "        0.87795608, 0.87872389, 0.87903102, 0.87987561, 0.88010596,\n",
       "        0.88045147]),\n",
       " 'split1_train_score': array([0.85742255, 0.85807517, 0.8590349 , 0.85961073, 0.86026335,\n",
       "        0.86122308, 0.86176053, 0.86924642, 0.87101232, 0.87147299,\n",
       "        0.87170333, 0.87220239, 0.87277823, 0.87343084, 0.87665553,\n",
       "        0.87742332, 0.87861338, 0.879266  , 0.87991861, 0.88037929,\n",
       "        0.88141579]),\n",
       " 'split2_train_score': array([0.85661638, 0.8572306 , 0.85834389, 0.85845906, 0.85926523,\n",
       "        0.85964912, 0.86083919, 0.86771085, 0.8679028 , 0.86943837,\n",
       "        0.86982226, 0.8703981 , 0.87089716, 0.87131944, 0.87408346,\n",
       "        0.87488963, 0.87573419, 0.87615647, 0.87692426, 0.87765365,\n",
       "        0.87822949]),\n",
       " 'split3_train_score': array([0.85899651, 0.85957234, 0.86057046, 0.86110791, 0.86137664,\n",
       "        0.86241314, 0.86287381, 0.86970709, 0.87085877, 0.87139621,\n",
       "        0.87208722, 0.87243272, 0.87262467, 0.87304695, 0.87611809,\n",
       "        0.87707781, 0.87776882, 0.87842144, 0.87895889, 0.87938117,\n",
       "        0.87991861]),\n",
       " 'split4_train_score': array([0.85650121, 0.85715383, 0.85811356, 0.85845906, 0.85880456,\n",
       "        0.85949557, 0.86014818, 0.86794119, 0.8693232 , 0.86955353,\n",
       "        0.87035971, 0.87105071, 0.87116588, 0.87154977, 0.87381473,\n",
       "        0.87439057, 0.87523513, 0.8760797 , 0.87688587, 0.87707781,\n",
       "        0.87715459]),\n",
       " 'mean_train_score': array([0.85760573, 0.85825835, 0.8592488 , 0.85964037, 0.86013944,\n",
       "        0.86086116, 0.86146771, 0.86878475, 0.86995179, 0.87072726,\n",
       "        0.87128775, 0.87183288, 0.87217838, 0.87261602, 0.87553363,\n",
       "        0.87634748, 0.87721508, 0.87779093, 0.87851265, 0.87891958,\n",
       "        0.87943399]),\n",
       " 'std_train_score': array([0.0009952 , 0.00100393, 0.00097669, 0.0010771 , 0.00098094,\n",
       "        0.00112375, 0.00092316, 0.00080165, 0.00118701, 0.00101397,\n",
       "        0.00102074, 0.00097193, 0.00097798, 0.00099152, 0.00132645,\n",
       "        0.00143061, 0.00145956, 0.00139363, 0.00135668, 0.00132257,\n",
       "        0.0015391 ])}"
      ]
     },
     "execution_count": 66,
     "metadata": {},
     "output_type": "execute_result"
    }
   ],
   "source": [
    "# On initialise un modèle XGBoost et on réalise un GridSearch pour déterminer les meilleurs paramètres\n",
    "clf_xgb = XGBClassifier()\n",
    "n_estimators = [i for i in range(300,601,50)]\n",
    "max_depth = [i for i in range(1,4)]\n",
    "parameters = {'n_estimators': n_estimators, 'max_depth': max_depth}\n",
    "clf_gs_xgb = GridSearchCV(clf_xgb, parameters, cv=5, scoring='accuracy')\n",
    "clf_gs_xgb.fit(X_dummies, Y)\n",
    "clf_gs_xgb.cv_results_"
   ]
  },
  {
   "cell_type": "code",
   "execution_count": 67,
   "metadata": {},
   "outputs": [
    {
     "data": {
      "text/plain": [
       "{'max_depth': 3, 'n_estimators': 500}"
      ]
     },
     "execution_count": 67,
     "metadata": {},
     "output_type": "execute_result"
    }
   ],
   "source": [
    "# Résultats du GridSearch\n",
    "clf_gs_xgb.best_params_"
   ]
  },
  {
   "cell_type": "code",
   "execution_count": 68,
   "metadata": {
    "scrolled": true
   },
   "outputs": [
    {
     "name": "stdout",
     "output_type": "stream",
     "text": [
      "1\n",
      "Accuracy : 0.8099873584903525 ; 0.001477950923038873\n",
      "2\n",
      "Accuracy : 0.831086310652179 ; 0.0023700028821322687\n",
      "3\n",
      "Accuracy : 0.8309327621453371 ; 0.0028862158056707616\n",
      "4\n",
      "Accuracy : 0.8301956897016778 ; 0.0024460705337424607\n",
      "5\n",
      "Accuracy : 0.8386414800336954 ; 0.0039375736920110645\n",
      "6\n",
      "Accuracy : 0.8640399931567595 ; 0.004270958874406691\n",
      "7\n",
      "Accuracy : 0.8648997978339296 ; 0.004644927655892147\n",
      "8\n",
      "Accuracy : 0.8663432301905356 ; 0.0038944398527387463\n",
      "9\n",
      "Accuracy : 0.8663432254749621 ; 0.003936762384713393\n",
      "10\n",
      "Accuracy : 0.8680017445736009 ; 0.004686365737219792\n",
      "11\n",
      "Accuracy : 0.8680017209957331 ; 0.0038860953134133803\n",
      "12\n",
      "Accuracy : 0.8680938727345915 ; 0.00425887969678195\n",
      "13\n",
      "Accuracy : 0.8684623618006851 ; 0.0040384326148416375\n",
      "14\n",
      "Accuracy : 0.8683395729802916 ; 0.004235985281238299\n",
      "15\n",
      "Accuracy : 0.868677382524688 ; 0.0039398782896644625\n",
      "16\n",
      "Accuracy : 0.8691380704853758 ; 0.0037842918552312707\n",
      "17\n",
      "Accuracy : 0.8699980543543419 ; 0.004892533007632402\n",
      "18\n",
      "Accuracy : 0.8693224069721076 ; 0.004936810634309181\n",
      "19\n",
      "Accuracy : 0.8703051607991726 ; 0.005275028499740237\n",
      "20\n",
      "Accuracy : 0.8700594369756047 ; 0.00396501030939086\n",
      "21\n",
      "Accuracy : 0.870090107066155 ; 0.00478911289045486\n",
      "22\n",
      "Accuracy : 0.8707658204664194 ; 0.005364960396646667\n",
      "23\n",
      "Accuracy : 0.8723013432594271 ; 0.005099694433840712\n",
      "24\n",
      "Accuracy : 0.8706736640119873 ; 0.004685912102831246\n",
      "25\n",
      "Accuracy : 0.871656413123479 ; 0.004284952767582897\n",
      "26\n",
      "Accuracy : 0.871656413123479 ; 0.004284952767582897\n"
     ]
    },
    {
     "data": {
      "text/plain": [
       "Text(0, 0.5, 'Accuracy')"
      ]
     },
     "execution_count": 68,
     "metadata": {},
     "output_type": "execute_result"
    },
    {
     "data": {
      "image/png": "[encoded data removed]",
      "text/plain": [
       "<Figure size 432x288 with 1 Axes>"
      ]
     },
     "metadata": {
      "needs_background": "light"
     },
     "output_type": "display_data"
    }
   ],
   "source": [
    "# Avec les paramètres définis par GridSearch, on cherche à sélectionner les features les plus pertinentes\n",
    "# Pour cela, on utilise SelectKBest et on calcule le score pour toutes les valeurs possibles de k\n",
    "clf_xgb = XGBClassifier(n_estimators=500, max_depth=3)\n",
    "x = []\n",
    "y = []\n",
    "for i in range(1, len(X_dummies.columns)+1):\n",
    "    print(i)\n",
    "    X_new = SelectKBest(chi2, k=i).fit_transform(X_dummies, Y)\n",
    "    scores_accuracy = cross_val_score(clf_xgb, X_new, Y, cv=5, scoring='accuracy')\n",
    "    print ('Accuracy : {0} ; {1}'.format(np.mean(scores_accuracy),np.std(scores_accuracy)))\n",
    "    x.append(i)\n",
    "    y.append(np.mean(scores_accuracy))\n",
    "plt.scatter(x,y)\n",
    "plt.xlabel('k')\n",
    "plt.ylabel('Accuracy')\n",
    "\n",
    "# Meilleur score pour k = 24, accuracy de 0.8713"
   ]
  },
  {
   "cell_type": "code",
   "execution_count": 69,
   "metadata": {},
   "outputs": [
    {
     "data": {
      "text/plain": [
       "Index(['native.country', 'occupation_Armed-Forces', 'occupation_Sales'], dtype='object')"
      ]
     },
     "execution_count": 69,
     "metadata": {},
     "output_type": "execute_result"
    }
   ],
   "source": [
    "# On veut savoir quelles variables sont ignorées\n",
    "X_dummies.columns[~SelectKBest(chi2, k=23).fit(X_dummies, Y).get_support()]"
   ]
  }
 ],
 "metadata": {
  "kernelspec": {
   "display_name": "Python 3",
   "language": "python",
   "name": "python3"
  },
  "language_info": {
   "codemirror_mode": {
    "name": "ipython",
    "version": 3
   },
   "file_extension": ".py",
   "mimetype": "text/x-python",
   "name": "python",
   "nbconvert_exporter": "python",
   "pygments_lexer": "ipython3",
   "version": "3.7.2"
  }
 },
 "nbformat": 4,
 "nbformat_minor": 2
}
